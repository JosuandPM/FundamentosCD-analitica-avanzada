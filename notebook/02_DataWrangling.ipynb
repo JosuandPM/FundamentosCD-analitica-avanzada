{
 "cells": [
  {
   "cell_type": "code",
   "execution_count": 3,
   "metadata": {},
   "outputs": [],
   "source": [
    "import pandas as pd"
   ]
  },
  {
   "cell_type": "code",
   "execution_count": 4,
   "metadata": {},
   "outputs": [],
   "source": [
    "\n",
    "raw_texto_categoria_productos = pd.read_csv('../datasets/raw/ProductCategoryText.csv')\n",
    "raw_productos = pd.read_csv('../datasets/raw/Products.csv')\n",
    "raw_texto_productos = pd.read_csv('../datasets/raw/ProductTexts.csv')\n",
    "raw_orden_ventas_item = pd.read_csv('../datasets/raw/SalesOrderItems.csv')"
   ]
  },
  {
   "cell_type": "code",
   "execution_count": 5,
   "metadata": {},
   "outputs": [],
   "source": [
    "def eda(df, nombre, id='id'):\n",
    "    print(f'EDA de {nombre} \\n')\n",
    "    print('Primeras filas:')\n",
    "    print(df.head())\n",
    "    print()\n",
    "    \n",
    "    print(df.info())\n",
    "    print()\n",
    "\n",
    "    print('Filas enteras repeditas:', df.duplicated().sum())\n",
    "    print()\n",
    "\n",
    "    print('Filas con id repetido:', df.duplicated(id).sum())\n",
    "    print()\n",
    "\n",
    "    print('Valores ausentes:')\n",
    "    print(df.isna().sum())\n",
    "    print()"
   ]
  },
  {
   "cell_type": "markdown",
   "metadata": {},
   "source": [
    "## Ordenes de Venta por Item"
   ]
  },
  {
   "cell_type": "code",
   "execution_count": 6,
   "metadata": {},
   "outputs": [
    {
     "name": "stdout",
     "output_type": "stream",
     "text": [
      "EDA de raw_orden_ventas_item \n",
      "\n",
      "Primeras filas:\n",
      "   SALESORDERID  SALESORDERITEM PRODUCTID NOTEID CURRENCY  GROSSAMOUNT  \\\n",
      "0     500000000              10   MB-1034             USD         2499   \n",
      "1     500000000              20   CB-1161             USD          399   \n",
      "2     500000001              10   HB-1175             USD          899   \n",
      "3     500000001              20   RC-1056             USD         2499   \n",
      "4     500000001              30   CC-1021             USD         1144   \n",
      "\n",
      "   NETAMOUNT  TAXAMOUNT ITEMATPSTATUS  OPITEMPOS  QUANTITY QUANTITYUNIT  \\\n",
      "0   2186.625    312.375             I        NaN         4           EA   \n",
      "1    349.125     49.875             I        NaN         9           EA   \n",
      "2    786.625    112.375             I        NaN         2           EA   \n",
      "3   2186.625    312.375             I        NaN         2           EA   \n",
      "4   1001.000    143.000             I        NaN         3           EA   \n",
      "\n",
      "   DELIVERYDATE  \n",
      "0      20180311  \n",
      "1      20180311  \n",
      "2      20180228  \n",
      "3      20180228  \n",
      "4      20180228  \n",
      "\n",
      "<class 'pandas.core.frame.DataFrame'>\n",
      "RangeIndex: 1930 entries, 0 to 1929\n",
      "Data columns (total 13 columns):\n",
      " #   Column          Non-Null Count  Dtype  \n",
      "---  ------          --------------  -----  \n",
      " 0   SALESORDERID    1930 non-null   int64  \n",
      " 1   SALESORDERITEM  1930 non-null   int64  \n",
      " 2   PRODUCTID       1930 non-null   object \n",
      " 3   NOTEID          1930 non-null   object \n",
      " 4   CURRENCY        1930 non-null   object \n",
      " 5   GROSSAMOUNT     1930 non-null   int64  \n",
      " 6   NETAMOUNT       1930 non-null   float64\n",
      " 7   TAXAMOUNT       1930 non-null   float64\n",
      " 8   ITEMATPSTATUS   1930 non-null   object \n",
      " 9   OPITEMPOS       0 non-null      float64\n",
      " 10  QUANTITY        1930 non-null   int64  \n",
      " 11  QUANTITYUNIT    1930 non-null   object \n",
      " 12  DELIVERYDATE    1930 non-null   int64  \n",
      "dtypes: float64(3), int64(5), object(5)\n",
      "memory usage: 196.1+ KB\n",
      "None\n",
      "\n",
      "Filas enteras repeditas: 0\n",
      "\n",
      "Filas con id repetido: 1888\n",
      "\n",
      "Valores ausentes:\n",
      "SALESORDERID         0\n",
      "SALESORDERITEM       0\n",
      "PRODUCTID            0\n",
      "NOTEID               0\n",
      "CURRENCY             0\n",
      "GROSSAMOUNT          0\n",
      "NETAMOUNT            0\n",
      "TAXAMOUNT            0\n",
      "ITEMATPSTATUS        0\n",
      "OPITEMPOS         1930\n",
      "QUANTITY             0\n",
      "QUANTITYUNIT         0\n",
      "DELIVERYDATE         0\n",
      "dtype: int64\n",
      "\n"
     ]
    }
   ],
   "source": [
    "eda(raw_orden_ventas_item, \"raw_orden_ventas_item\", \"PRODUCTID\")"
   ]
  },
  {
   "cell_type": "markdown",
   "metadata": {},
   "source": [
    "1. Conversión de fechas"
   ]
  },
  {
   "cell_type": "code",
   "execution_count": 7,
   "metadata": {},
   "outputs": [],
   "source": [
    "raw_orden_ventas_item['DELIVERYDATE'] = pd.to_datetime(raw_orden_ventas_item['DELIVERYDATE'], format='%Y%m%d', errors='coerce')\n"
   ]
  },
  {
   "cell_type": "markdown",
   "metadata": {},
   "source": [
    "Se convierte la columna DELIVERYDATE a formato de fecha (datetime) para poder realizar análisis temporales, agrupar por semana, mes o año, y preparar variables de tiempo para el modelado."
   ]
  },
  {
   "cell_type": "markdown",
   "metadata": {},
   "source": [
    "2. Eliminación de columnas innecesarias"
   ]
  },
  {
   "cell_type": "code",
   "execution_count": 8,
   "metadata": {},
   "outputs": [],
   "source": [
    "columnas_a_eliminar = [\n",
    "    'QUANTITYUNIT',\n",
    "    'NOTEID',\n",
    "    'TAXAMOUNT',\n",
    "    'ITEMATPSTATUS',\n",
    "    'SALESORDERID',\n",
    "    'SALESORDERITEM',\n",
    "    'CURRENCY',\n",
    "    'NETAMOUNT',\n",
    "    'OPITEMPOS'\n",
    "]\n",
    "\n",
    "raw_orden_ventas_item.drop(columns=[col for col in columnas_a_eliminar if col in raw_orden_ventas_item.columns], inplace=True)\n",
    "\n"
   ]
  },
  {
   "cell_type": "markdown",
   "metadata": {},
   "source": [
    "Se eliminan columnas que no aportan valor al análisis ni al modelo, como identificadores, códigos de posición, información duplicada o logística, y columnas con valores constantes o sin uso. Esto simplifica el dataset y mejora la interpretabilidad."
   ]
  },
  {
   "cell_type": "markdown",
   "metadata": {},
   "source": [
    "3. Tratamiento de valores nulos"
   ]
  },
  {
   "cell_type": "code",
   "execution_count": 9,
   "metadata": {},
   "outputs": [],
   "source": [
    "raw_orden_ventas_item.dropna(subset=['QUANTITY', 'DELIVERYDATE', 'PRODUCTID', 'GROSSAMOUNT'], inplace=True)\n"
   ]
  },
  {
   "cell_type": "markdown",
   "metadata": {},
   "source": [
    "Se eliminan las filas que tienen valores nulos en columnas clave como PRODUCTID, QUANTITY, DELIVERYDATE o GROSSAMOUNT, ya que estos campos son necesarios para calcular ingresos, identificar productos y relacionar con otras tablas."
   ]
  },
  {
   "cell_type": "markdown",
   "metadata": {},
   "source": [
    "4. Transformación de tipos de datos"
   ]
  },
  {
   "cell_type": "code",
   "execution_count": 10,
   "metadata": {},
   "outputs": [],
   "source": [
    "\n",
    "raw_orden_ventas_item['GROSSAMOUNT'] = raw_orden_ventas_item['GROSSAMOUNT'].astype(int)\n",
    "raw_orden_ventas_item['QUANTITY'] = raw_orden_ventas_item['QUANTITY'].astype(int)\n"
   ]
  },
  {
   "cell_type": "markdown",
   "metadata": {},
   "source": [
    "Se transforma QUANTITY, GROSSAMOUNT a tipo entero, ya que representa unidades enteras vendidas."
   ]
  },
  {
   "cell_type": "markdown",
   "metadata": {},
   "source": [
    "5. Detección y eliminación de outliers"
   ]
  },
  {
   "cell_type": "code",
   "execution_count": 11,
   "metadata": {},
   "outputs": [],
   "source": [
    "Q1 = raw_orden_ventas_item['QUANTITY'].quantile(0.25)\n",
    "Q3 = raw_orden_ventas_item['QUANTITY'].quantile(0.75)\n",
    "IQR = Q3 - Q1\n",
    "limite_inferior = Q1 - 1.5 * IQR\n",
    "limite_superior = Q3 + 1.5 * IQR\n",
    "\n",
    "raw_orden_ventas_item = raw_orden_ventas_item[\n",
    "    (raw_orden_ventas_item['QUANTITY'] >= limite_inferior) &\n",
    "    (raw_orden_ventas_item['QUANTITY'] <= limite_superior)\n",
    "]\n"
   ]
  },
  {
   "cell_type": "markdown",
   "metadata": {},
   "source": [
    "Se identifican y eliminan valores atípicos en QUANTITY utilizando el rango intercuartílico (IQR), con el objetivo de evitar que cantidades extremadamente altas o bajas distorsionen el análisis o el entrenamiento del modelo."
   ]
  },
  {
   "cell_type": "markdown",
   "metadata": {},
   "source": [
    "6. Renombramiento de columna"
   ]
  },
  {
   "cell_type": "code",
   "execution_count": 12,
   "metadata": {},
   "outputs": [],
   "source": [
    "raw_orden_ventas_item.rename(columns={'GROSSAMOUNT': 'PRICE_UNITARIO'}, inplace=True)"
   ]
  },
  {
   "cell_type": "markdown",
   "metadata": {},
   "source": [
    "Se renombra la columna GROSSAMOUNT como PRICE_UNITARIO para reflejar su verdadero significado: el precio unitario del producto vendido. Esto mejora la claridad del análisis y evita confusión con montos totales."
   ]
  },
  {
   "cell_type": "code",
   "execution_count": 13,
   "metadata": {},
   "outputs": [
    {
     "name": "stdout",
     "output_type": "stream",
     "text": [
      "     PRODUCTID  PRICE_UNITARIO  QUANTITY DELIVERYDATE\n",
      "0      MB-1034            2499         4   2018-03-11\n",
      "1      CB-1161             399         9   2018-03-11\n",
      "2      HB-1175             899         2   2018-02-28\n",
      "3      RC-1056            2499         2   2018-02-28\n",
      "4      CC-1021            1144         3   2018-02-28\n",
      "...        ...             ...       ...          ...\n",
      "1925   MB-1031             649        10   2019-07-09\n",
      "1926   BX-1013             449         3   2019-07-09\n",
      "1927   EB-1132            1900         3   2019-07-09\n",
      "1928   BX-1011             249         5   2019-07-09\n",
      "1929   BX-1015             299         6   2019-07-09\n",
      "\n",
      "[1908 rows x 4 columns]\n"
     ]
    }
   ],
   "source": [
    "print(raw_orden_ventas_item)"
   ]
  },
  {
   "cell_type": "code",
   "execution_count": 35,
   "metadata": {},
   "outputs": [
    {
     "name": "stdout",
     "output_type": "stream",
     "text": [
      "<class 'pandas.core.frame.DataFrame'>\n",
      "Index: 1908 entries, 0 to 1929\n",
      "Data columns (total 4 columns):\n",
      " #   Column          Non-Null Count  Dtype         \n",
      "---  ------          --------------  -----         \n",
      " 0   PRODUCTID       1908 non-null   object        \n",
      " 1   PRICE_UNITARIO  1908 non-null   int32         \n",
      " 2   QUANTITY        1908 non-null   int32         \n",
      " 3   DELIVERYDATE    1908 non-null   datetime64[ns]\n",
      "dtypes: datetime64[ns](1), int32(2), object(1)\n",
      "memory usage: 59.6+ KB\n"
     ]
    }
   ],
   "source": [
    "raw_orden_ventas_item.info()"
   ]
  },
  {
   "cell_type": "markdown",
   "metadata": {},
   "source": [
    "## Text Category Products\n"
   ]
  },
  {
   "cell_type": "code",
   "execution_count": 14,
   "metadata": {},
   "outputs": [
    {
     "name": "stdout",
     "output_type": "stream",
     "text": [
      "EDA de raw_texto_categoria_productos \n",
      "\n",
      "Primeras filas:\n",
      "  PRODCATEGORYID LANGUAGE       SHORT_DESCR  MEDIUM_DESCR  LONG_DESCR\n",
      "0             RO       EN         Road Bike           NaN         NaN\n",
      "1             BX       EN               BMX           NaN         NaN\n",
      "2             CC       EN  Cyclo-cross Bike           NaN         NaN\n",
      "3             MB       EN     Mountain Bike           NaN         NaN\n",
      "4             RC       EN       Racing Bike           NaN         NaN\n",
      "\n",
      "<class 'pandas.core.frame.DataFrame'>\n",
      "RangeIndex: 9 entries, 0 to 8\n",
      "Data columns (total 5 columns):\n",
      " #   Column          Non-Null Count  Dtype  \n",
      "---  ------          --------------  -----  \n",
      " 0   PRODCATEGORYID  9 non-null      object \n",
      " 1   LANGUAGE        9 non-null      object \n",
      " 2   SHORT_DESCR     9 non-null      object \n",
      " 3   MEDIUM_DESCR    0 non-null      float64\n",
      " 4   LONG_DESCR      0 non-null      float64\n",
      "dtypes: float64(2), object(3)\n",
      "memory usage: 492.0+ bytes\n",
      "None\n",
      "\n",
      "Filas enteras repeditas: 0\n",
      "\n",
      "Filas con id repetido: 0\n",
      "\n",
      "Valores ausentes:\n",
      "PRODCATEGORYID    0\n",
      "LANGUAGE          0\n",
      "SHORT_DESCR       0\n",
      "MEDIUM_DESCR      9\n",
      "LONG_DESCR        9\n",
      "dtype: int64\n",
      "\n"
     ]
    }
   ],
   "source": [
    "eda(raw_texto_categoria_productos, \"raw_texto_categoria_productos\", \"PRODCATEGORYID\")"
   ]
  },
  {
   "cell_type": "markdown",
   "metadata": {},
   "source": [
    "1. Eliminación de columnas innecesarias"
   ]
  },
  {
   "cell_type": "code",
   "execution_count": 15,
   "metadata": {},
   "outputs": [],
   "source": [
    "columnas_a_eliminar = ['LANGUAGE', 'MEDIUM_DESCR', 'LONG_DESCR']\n",
    "raw_texto_categoria_productos.drop(columns=columnas_a_eliminar, inplace=True)"
   ]
  },
  {
   "cell_type": "markdown",
   "metadata": {},
   "source": [
    "Se eliminan las columnas LANGUAGE, MEDIUM_DESCR y LONG_DESCR ya que no contienen información útil. Dos de ellas están completamente vacías y el idioma no será utilizado para segmentación."
   ]
  },
  {
   "cell_type": "markdown",
   "metadata": {},
   "source": [
    "2. Eliminación de valores nulos"
   ]
  },
  {
   "cell_type": "code",
   "execution_count": 16,
   "metadata": {},
   "outputs": [],
   "source": [
    "\n",
    "raw_texto_categoria_productos.dropna(subset=['SHORT_DESCR'], inplace=True)\n"
   ]
  },
  {
   "cell_type": "markdown",
   "metadata": {},
   "source": [
    "Se eliminan registros que no contienen SHORT_DESCR, ya que esta columna representa la descripción principal que se usará en visualizaciones y reportes para identificar la categoría del producto."
   ]
  },
  {
   "cell_type": "markdown",
   "metadata": {},
   "source": [
    "3. Eliminación de duplicados"
   ]
  },
  {
   "cell_type": "code",
   "execution_count": 17,
   "metadata": {},
   "outputs": [],
   "source": [
    "\n",
    "raw_texto_categoria_productos.drop_duplicates(subset='PRODCATEGORYID', keep='first', inplace=True)\n"
   ]
  },
  {
   "cell_type": "markdown",
   "metadata": {},
   "source": [
    "Aunque no se detectaron duplicados en el EDA, se asegura que cada categoría tenga una única descripción asociada por PRODCATEGORYID, evitando errores en la unión con otras tablas."
   ]
  },
  {
   "cell_type": "markdown",
   "metadata": {},
   "source": [
    "4. Renombramiento de columna descriptiva"
   ]
  },
  {
   "cell_type": "code",
   "execution_count": 18,
   "metadata": {},
   "outputs": [],
   "source": [
    "\n",
    "raw_texto_categoria_productos.rename(columns={'SHORT_DESCR': 'SHORT_DESCR_CAT'}, inplace=True)\n"
   ]
  },
  {
   "cell_type": "markdown",
   "metadata": {},
   "source": [
    "Se renombra SHORT_DESCR a SHORT_DESCR_CAT para evitar confusión con la descripción de productos. Esto permite distinguir claramente entre descripciones de productos (SHORT_DESCR) y de categorías (SHORT_DESCR_CAT) al unir tablas o generar reportes."
   ]
  },
  {
   "cell_type": "code",
   "execution_count": 19,
   "metadata": {},
   "outputs": [
    {
     "name": "stdout",
     "output_type": "stream",
     "text": [
      "  PRODCATEGORYID   SHORT_DESCR_CAT\n",
      "0             RO         Road Bike\n",
      "1             BX               BMX\n",
      "2             CC  Cyclo-cross Bike\n",
      "3             MB     Mountain Bike\n",
      "4             RC       Racing Bike\n",
      "5             DB     Downhill Bike\n",
      "6             EB             eBike\n",
      "7             CB           Cruiser\n",
      "8             HB       Hybrid Bike\n"
     ]
    }
   ],
   "source": [
    "print(raw_texto_categoria_productos)"
   ]
  },
  {
   "cell_type": "markdown",
   "metadata": {},
   "source": [
    "## Products\n"
   ]
  },
  {
   "cell_type": "code",
   "execution_count": 20,
   "metadata": {},
   "outputs": [
    {
     "name": "stdout",
     "output_type": "stream",
     "text": [
      "EDA de raw_productos \n",
      "\n",
      "Primeras filas:\n",
      "  PRODUCTID TYPECODE PRODCATEGORYID  CREATEDBY  CREATEDAT  CHANGEDBY  \\\n",
      "0   RO-1001       PR             RO          9   20181003          9   \n",
      "1   RO-1002       PR             RO          9   20181003          9   \n",
      "2   RO-1003       PR             RO         12   20181003         12   \n",
      "3   BX-1011       PR             BX          9   20181003          9   \n",
      "4   BX-1012       PR             BX          6   20181003          6   \n",
      "\n",
      "   CHANGEDAT  SUPPLIER_PARTNERID  TAXTARIFFCODE QUANTITYUNIT  WEIGHTMEASURE  \\\n",
      "0   20181003           100000000              1           EA            7.7   \n",
      "1   20181003           100000001              1           EA            8.0   \n",
      "2   20181003           100000002              1           EA            9.1   \n",
      "3   20181003           100000003              1           EA           11.1   \n",
      "4   20181003           100000004              1           EA           12.0   \n",
      "\n",
      "  WEIGHTUNIT CURRENCY  PRICE  WIDTH  DEPTH  HEIGHT  DIMENSIONUNIT  \\\n",
      "0         KG      USD    525    NaN    NaN     NaN            NaN   \n",
      "1         KG      USD    689    NaN    NaN     NaN            NaN   \n",
      "2         KG      USD    721    NaN    NaN     NaN            NaN   \n",
      "3         KG      USD    249    NaN    NaN     NaN            NaN   \n",
      "4         KG      USD    399    NaN    NaN     NaN            NaN   \n",
      "\n",
      "   PRODUCTPICURL  \n",
      "0            NaN  \n",
      "1            NaN  \n",
      "2            NaN  \n",
      "3            NaN  \n",
      "4            NaN  \n",
      "\n",
      "<class 'pandas.core.frame.DataFrame'>\n",
      "RangeIndex: 42 entries, 0 to 41\n",
      "Data columns (total 19 columns):\n",
      " #   Column              Non-Null Count  Dtype  \n",
      "---  ------              --------------  -----  \n",
      " 0   PRODUCTID           42 non-null     object \n",
      " 1   TYPECODE            42 non-null     object \n",
      " 2   PRODCATEGORYID      42 non-null     object \n",
      " 3   CREATEDBY           42 non-null     int64  \n",
      " 4   CREATEDAT           42 non-null     int64  \n",
      " 5   CHANGEDBY           42 non-null     int64  \n",
      " 6   CHANGEDAT           42 non-null     int64  \n",
      " 7   SUPPLIER_PARTNERID  42 non-null     int64  \n",
      " 8   TAXTARIFFCODE       42 non-null     int64  \n",
      " 9   QUANTITYUNIT        42 non-null     object \n",
      " 10  WEIGHTMEASURE       42 non-null     float64\n",
      " 11  WEIGHTUNIT          42 non-null     object \n",
      " 12  CURRENCY            42 non-null     object \n",
      " 13  PRICE               42 non-null     int64  \n",
      " 14  WIDTH               0 non-null      float64\n",
      " 15  DEPTH               0 non-null      float64\n",
      " 16  HEIGHT              0 non-null      float64\n",
      " 17  DIMENSIONUNIT       0 non-null      float64\n",
      " 18  PRODUCTPICURL       0 non-null      float64\n",
      "dtypes: float64(6), int64(7), object(6)\n",
      "memory usage: 6.4+ KB\n",
      "None\n",
      "\n",
      "Filas enteras repeditas: 0\n",
      "\n",
      "Filas con id repetido: 0\n",
      "\n",
      "Valores ausentes:\n",
      "PRODUCTID              0\n",
      "TYPECODE               0\n",
      "PRODCATEGORYID         0\n",
      "CREATEDBY              0\n",
      "CREATEDAT              0\n",
      "CHANGEDBY              0\n",
      "CHANGEDAT              0\n",
      "SUPPLIER_PARTNERID     0\n",
      "TAXTARIFFCODE          0\n",
      "QUANTITYUNIT           0\n",
      "WEIGHTMEASURE          0\n",
      "WEIGHTUNIT             0\n",
      "CURRENCY               0\n",
      "PRICE                  0\n",
      "WIDTH                 42\n",
      "DEPTH                 42\n",
      "HEIGHT                42\n",
      "DIMENSIONUNIT         42\n",
      "PRODUCTPICURL         42\n",
      "dtype: int64\n",
      "\n"
     ]
    }
   ],
   "source": [
    "eda(raw_productos, \"raw_productos\", \"PRODUCTID\")"
   ]
  },
  {
   "cell_type": "markdown",
   "metadata": {},
   "source": [
    "1. Eliminación de columnas innecesarias"
   ]
  },
  {
   "cell_type": "code",
   "execution_count": 21,
   "metadata": {},
   "outputs": [],
   "source": [
    "columnas_a_eliminar = [\n",
    "    'PRODUCTPICURL',\n",
    "    'WIDTH',\n",
    "    'DEPTH',\n",
    "    'HEIGHT',\n",
    "    'DIMENSIONUNIT',\n",
    "    'CHANGEDAT',\n",
    "    'SUPPLIER_PARTNERID',\n",
    "    'TAXTARIFFCODE',\n",
    "    'QUANTITYUNIT',\n",
    "    'WEIGHTMEASURE',\n",
    "    'CHANGEDBY',\n",
    "    'CREATEDBY',\n",
    "    'TYPECODE',\n",
    "    'CREATEDAT',\n",
    "    'WEIGHTUNIT',\n",
    "    'CURRENCY'\n",
    "]\n",
    "raw_productos.drop(columns=[col for col in columnas_a_eliminar if col in raw_productos.columns], inplace=True)"
   ]
  },
  {
   "cell_type": "markdown",
   "metadata": {},
   "source": [
    "Se eliminan columnas técnicas o vacías como dimensiones físicas, identificadores internos, y campos de auditoría que no aportan al modelo de predicción de ventas. Esto reduce ruido y simplifica el dataset."
   ]
  },
  {
   "cell_type": "markdown",
   "metadata": {},
   "source": [
    "2. Eliminación de valores nulos"
   ]
  },
  {
   "cell_type": "code",
   "execution_count": 22,
   "metadata": {},
   "outputs": [],
   "source": [
    "raw_productos.dropna(subset=['PRODUCTID', 'PRODCATEGORYID', 'PRICE'], inplace=True)"
   ]
  },
  {
   "cell_type": "markdown",
   "metadata": {},
   "source": [
    "Se eliminan filas que no tienen información esencial en las columnas PRODUCTID, PRODCATEGORYID o PRICE, ya que son claves para enlazar con otras tablas y para calcular métricas de valor e inventario."
   ]
  },
  {
   "cell_type": "markdown",
   "metadata": {},
   "source": [
    "3. Conversión de tipo en la columna PRICE"
   ]
  },
  {
   "cell_type": "code",
   "execution_count": 23,
   "metadata": {},
   "outputs": [],
   "source": [
    "raw_productos['PRICE'] = raw_productos['PRICE'].astype(int)"
   ]
  },
  {
   "cell_type": "markdown",
   "metadata": {},
   "source": [
    "Se convierte la columna PRICE a tipo entero ya que representa precios definidos sin decimales. Esto estandariza el tipo de dato y evita errores al momento de agrupar, calcular totales o unir con otras tablas."
   ]
  },
  {
   "cell_type": "code",
   "execution_count": 24,
   "metadata": {},
   "outputs": [
    {
     "name": "stdout",
     "output_type": "stream",
     "text": [
      "   PRODUCTID PRODCATEGORYID  PRICE\n",
      "0    RO-1001             RO    525\n",
      "1    RO-1002             RO    689\n",
      "2    RO-1003             RO    721\n",
      "3    BX-1011             BX    249\n",
      "4    BX-1012             BX    399\n",
      "5    BX-1013             BX    449\n",
      "6    BX-1014             BX    799\n",
      "7    BX-1015             BX    299\n",
      "8    BX-1016             BX    319\n",
      "9    CC-1021             CC   1144\n",
      "10   CC-1022             CC   1200\n",
      "11   CC-1023             CC   1361\n",
      "12   MB-1031             MB    649\n",
      "13   MB-1032             MB   1299\n",
      "14   MB-1033             MB   3999\n",
      "15   MB-1034             MB   2499\n",
      "16   RC-1051             RC   2499\n",
      "17   RC-1052             RC   3999\n",
      "18   RC-1053             RC   4599\n",
      "19   RC-1054             RC   5499\n",
      "20   RC-1055             RC   1999\n",
      "21   RC-1056             RC   2499\n",
      "22   RC-1057             RC   4999\n",
      "23   DB-1081             DB   1499\n",
      "24   DB-1082             DB   1250\n",
      "25   DB-1083             DB   1199\n",
      "26   EB-1131             EB   1500\n",
      "27   EB-1132             EB   1900\n",
      "28   EB-1133             EB   2250\n",
      "29   EB-1134             EB   4800\n",
      "30   EB-1135             EB   3000\n",
      "31   EB-1136             EB   5000\n",
      "32   EB-1137             EB   7900\n",
      "33   CB-1161             CB    399\n",
      "34   CB-1162             CB    400\n",
      "35   CB-1163             CB    288\n",
      "36   HB-1171             HB    699\n",
      "37   HB-1172             HB    799\n",
      "38   HB-1173             HB    649\n",
      "39   HB-1174             HB    379\n",
      "40   HB-1175             HB    899\n",
      "41   HB-1176             HB   1199\n"
     ]
    }
   ],
   "source": [
    "print(raw_productos)"
   ]
  },
  {
   "cell_type": "markdown",
   "metadata": {},
   "source": [
    "## Texto Productos"
   ]
  },
  {
   "cell_type": "code",
   "execution_count": 25,
   "metadata": {},
   "outputs": [
    {
     "name": "stdout",
     "output_type": "stream",
     "text": [
      "EDA de raw_texto_productos \n",
      "\n",
      "Primeras filas:\n",
      "  PRODUCTID LANGUAGE       SHORT_DESCR MEDIUM_DESCR  LONG_DESCR\n",
      "0   RO-1001       EN        Roady 1001          NaN         NaN\n",
      "1   RO-1002       EN        Roady 1002          NaN         NaN\n",
      "2   RO-1003       EN        Roady 1003          NaN         NaN\n",
      "3   BX-1011       EN  BMX Vintage 1011          NaN         NaN\n",
      "4   BX-1012       EN     BMX Jump 1012          NaN         NaN\n",
      "\n",
      "<class 'pandas.core.frame.DataFrame'>\n",
      "RangeIndex: 44 entries, 0 to 43\n",
      "Data columns (total 5 columns):\n",
      " #   Column        Non-Null Count  Dtype  \n",
      "---  ------        --------------  -----  \n",
      " 0   PRODUCTID     44 non-null     object \n",
      " 1   LANGUAGE      44 non-null     object \n",
      " 2   SHORT_DESCR   44 non-null     object \n",
      " 3   MEDIUM_DESCR  36 non-null     object \n",
      " 4   LONG_DESCR    0 non-null      float64\n",
      "dtypes: float64(1), object(4)\n",
      "memory usage: 1.8+ KB\n",
      "None\n",
      "\n",
      "Filas enteras repeditas: 0\n",
      "\n",
      "Filas con id repetido: 2\n",
      "\n",
      "Valores ausentes:\n",
      "PRODUCTID        0\n",
      "LANGUAGE         0\n",
      "SHORT_DESCR      0\n",
      "MEDIUM_DESCR     8\n",
      "LONG_DESCR      44\n",
      "dtype: int64\n",
      "\n"
     ]
    }
   ],
   "source": [
    "eda(raw_texto_productos, \"raw_texto_productos\", \"PRODUCTID\")"
   ]
  },
  {
   "cell_type": "markdown",
   "metadata": {},
   "source": [
    "1. Eliminación de columnas innecesarias"
   ]
  },
  {
   "cell_type": "code",
   "execution_count": 26,
   "metadata": {},
   "outputs": [],
   "source": [
    "columnas_a_eliminar = ['LANGUAGE', 'MEDIUM_DESCR', 'LONG_DESCR']\n",
    "raw_texto_productos.drop(columns=columnas_a_eliminar, inplace=True)\n"
   ]
  },
  {
   "cell_type": "markdown",
   "metadata": {},
   "source": [
    "Se eliminan las columnas LANGUAGE, MEDIUM_DESCR y LONG_DESCR ya que no aportan valor al análisis. El idioma no es relevante para este proyecto y las otras columnas contienen muchos valores nulos o son redundantes frente a SHORT_DESCR."
   ]
  },
  {
   "cell_type": "markdown",
   "metadata": {},
   "source": [
    "2. Eliminación de duplicados"
   ]
  },
  {
   "cell_type": "code",
   "execution_count": 27,
   "metadata": {},
   "outputs": [],
   "source": [
    "\n",
    "raw_texto_productos.drop_duplicates(subset='PRODUCTID', keep='first', inplace=True)"
   ]
  },
  {
   "cell_type": "markdown",
   "metadata": {},
   "source": [
    "Se conservan solo las primeras apariciones por PRODUCTID, ya que la relación entre un producto y su descripción debe ser única para evitar errores al unir con otras tablas."
   ]
  },
  {
   "cell_type": "markdown",
   "metadata": {},
   "source": [
    "3. Eliminación de valores nulos"
   ]
  },
  {
   "cell_type": "code",
   "execution_count": 28,
   "metadata": {},
   "outputs": [],
   "source": [
    "raw_texto_productos.dropna(subset=['SHORT_DESCR'], inplace=True)"
   ]
  },
  {
   "cell_type": "markdown",
   "metadata": {},
   "source": [
    "Se eliminan filas que no contienen una descripción corta (SHORT_DESCR), ya que esta será la columna principal para representar el nombre del producto en visualizaciones o reportes."
   ]
  },
  {
   "cell_type": "code",
   "execution_count": 29,
   "metadata": {},
   "outputs": [
    {
     "name": "stdout",
     "output_type": "stream",
     "text": [
      "   PRODUCTID         SHORT_DESCR\n",
      "0    RO-1001          Roady 1001\n",
      "1    RO-1002          Roady 1002\n",
      "2    RO-1003          Roady 1003\n",
      "3    BX-1011    BMX Vintage 1011\n",
      "4    BX-1012       BMX Jump 1012\n",
      "5    BX-1013      BMX Jump Lux I\n",
      "6    BX-1014     BMX Jump Lux II\n",
      "7    BX-1015          BMX Optima\n",
      "8    BX-1016       BMX Optima II\n",
      "9    CC-1021       Cyclone Basic\n",
      "10   CC-1022       Cyclone Speed\n",
      "11   CC-1023         Cyclone III\n",
      "12   MB-1031      Mt Discovery B\n",
      "13   MB-1032  Mt Discovery Drive\n",
      "14   MB-1033   Mt Discovery Rush\n",
      "15   MB-1034   Mt Discovery Ulti\n",
      "16   RC-1051           Tornado I\n",
      "17   RC-1052          Tornado II\n",
      "18   RC-1053            Stream I\n",
      "19   RC-1054           Stream II\n",
      "20   RC-1055           Veloflash\n",
      "22   RC-1056       Veloflash SE \n",
      "24   RC-1057  Veloflash Ultimate\n",
      "25   DB-1081         Rooty Basic\n",
      "26   DB-1082           Capricorn\n",
      "27   DB-1083        Capricorn II\n",
      "28   EB-1131         Flash Drive\n",
      "29   EB-1132      Flash Drive II\n",
      "30   EB-1133            Lazy Cat\n",
      "31   EB-1134         Lazy Cat II\n",
      "32   EB-1135            Speedeon\n",
      "33   EB-1136      Speedeon Light\n",
      "34   EB-1137      Speedeon Cross\n",
      "35   CB-1161            La Plage\n",
      "36   CB-1162    La Plage Limited\n",
      "37   CB-1163       La Plage Gold\n",
      "38   HB-1171         Star Cruise\n",
      "39   HB-1172      Star Cruise II\n",
      "40   HB-1173       Universal One\n",
      "41   HB-1174       Universal Two\n",
      "42   HB-1175           Specifica\n",
      "43   HB-1176      Specifica Gold\n"
     ]
    }
   ],
   "source": [
    "print(raw_texto_productos)"
   ]
  },
  {
   "cell_type": "markdown",
   "metadata": {},
   "source": [
    "## Integración de tablas"
   ]
  },
  {
   "cell_type": "markdown",
   "metadata": {},
   "source": [
    "1. Crear la tabla de hechos fct_ventas"
   ]
  },
  {
   "cell_type": "code",
   "execution_count": 30,
   "metadata": {},
   "outputs": [],
   "source": [
    "\n",
    "fct_ventas = raw_orden_ventas_item.merge(raw_productos, on='PRODUCTID', how='left')\n"
   ]
  },
  {
   "cell_type": "markdown",
   "metadata": {},
   "source": [
    "Se crea la tabla fct_ventas al unir los detalles de las órdenes (raw_orden_ventas_item) con los productos (raw_productos). Esta tabla representa los hechos observables: cantidad vendida, producto, precio unitario y fecha de entrega. Será la base para calcular ventas, inventario y otras métricas clave."
   ]
  },
  {
   "cell_type": "code",
   "execution_count": 31,
   "metadata": {},
   "outputs": [
    {
     "name": "stdout",
     "output_type": "stream",
     "text": [
      "     PRODUCTID  PRICE_UNITARIO  QUANTITY DELIVERYDATE PRODCATEGORYID  PRICE\n",
      "0      MB-1034            2499         4   2018-03-11             MB   2499\n",
      "1      CB-1161             399         9   2018-03-11             CB    399\n",
      "2      HB-1175             899         2   2018-02-28             HB    899\n",
      "3      RC-1056            2499         2   2018-02-28             RC   2499\n",
      "4      CC-1021            1144         3   2018-02-28             CC   1144\n",
      "...        ...             ...       ...          ...            ...    ...\n",
      "1903   MB-1031             649        10   2019-07-09             MB    649\n",
      "1904   BX-1013             449         3   2019-07-09             BX    449\n",
      "1905   EB-1132            1900         3   2019-07-09             EB   1900\n",
      "1906   BX-1011             249         5   2019-07-09             BX    249\n",
      "1907   BX-1015             299         6   2019-07-09             BX    299\n",
      "\n",
      "[1908 rows x 6 columns]\n"
     ]
    }
   ],
   "source": [
    "print(fct_ventas)"
   ]
  },
  {
   "cell_type": "code",
   "execution_count": 36,
   "metadata": {},
   "outputs": [
    {
     "name": "stdout",
     "output_type": "stream",
     "text": [
      "<class 'pandas.core.frame.DataFrame'>\n",
      "RangeIndex: 1908 entries, 0 to 1907\n",
      "Data columns (total 6 columns):\n",
      " #   Column          Non-Null Count  Dtype         \n",
      "---  ------          --------------  -----         \n",
      " 0   PRODUCTID       1908 non-null   object        \n",
      " 1   PRICE_UNITARIO  1908 non-null   int32         \n",
      " 2   QUANTITY        1908 non-null   int32         \n",
      " 3   DELIVERYDATE    1908 non-null   datetime64[ns]\n",
      " 4   PRODCATEGORYID  1908 non-null   object        \n",
      " 5   PRICE           1908 non-null   int32         \n",
      "dtypes: datetime64[ns](1), int32(3), object(2)\n",
      "memory usage: 67.2+ KB\n"
     ]
    }
   ],
   "source": [
    "fct_ventas.info()"
   ]
  },
  {
   "cell_type": "markdown",
   "metadata": {},
   "source": [
    "2. Crear la tabla dimensional dim_productos"
   ]
  },
  {
   "cell_type": "code",
   "execution_count": 32,
   "metadata": {},
   "outputs": [],
   "source": [
    "dim_productos = raw_productos.merge(\n",
    "    raw_texto_productos[['PRODUCTID', 'SHORT_DESCR']], on='PRODUCTID', how='left'\n",
    ")\n",
    "\n",
    "dim_productos = dim_productos.merge(\n",
    "    raw_texto_categoria_productos[['PRODCATEGORYID', 'SHORT_DESCR_CAT']], on='PRODCATEGORYID', how='left'\n",
    ")\n"
   ]
  },
  {
   "cell_type": "markdown",
   "metadata": {},
   "source": [
    "Se construye la tabla dim_productos combinando la información técnica del producto (raw_productos) con su descripción (raw_texto_productos) y la descripción de su categoría (raw_texto_categoria_productos). Esta dimensión permite interpretar los códigos y clasificar los productos de manera comprensible en reportes o visualizaciones."
   ]
  },
  {
   "cell_type": "code",
   "execution_count": 33,
   "metadata": {},
   "outputs": [
    {
     "name": "stdout",
     "output_type": "stream",
     "text": [
      "   PRODUCTID PRODCATEGORYID  PRICE         SHORT_DESCR   SHORT_DESCR_CAT\n",
      "0    RO-1001             RO    525          Roady 1001         Road Bike\n",
      "1    RO-1002             RO    689          Roady 1002         Road Bike\n",
      "2    RO-1003             RO    721          Roady 1003         Road Bike\n",
      "3    BX-1011             BX    249    BMX Vintage 1011               BMX\n",
      "4    BX-1012             BX    399       BMX Jump 1012               BMX\n",
      "5    BX-1013             BX    449      BMX Jump Lux I               BMX\n",
      "6    BX-1014             BX    799     BMX Jump Lux II               BMX\n",
      "7    BX-1015             BX    299          BMX Optima               BMX\n",
      "8    BX-1016             BX    319       BMX Optima II               BMX\n",
      "9    CC-1021             CC   1144       Cyclone Basic  Cyclo-cross Bike\n",
      "10   CC-1022             CC   1200       Cyclone Speed  Cyclo-cross Bike\n",
      "11   CC-1023             CC   1361         Cyclone III  Cyclo-cross Bike\n",
      "12   MB-1031             MB    649      Mt Discovery B     Mountain Bike\n",
      "13   MB-1032             MB   1299  Mt Discovery Drive     Mountain Bike\n",
      "14   MB-1033             MB   3999   Mt Discovery Rush     Mountain Bike\n",
      "15   MB-1034             MB   2499   Mt Discovery Ulti     Mountain Bike\n",
      "16   RC-1051             RC   2499           Tornado I       Racing Bike\n",
      "17   RC-1052             RC   3999          Tornado II       Racing Bike\n",
      "18   RC-1053             RC   4599            Stream I       Racing Bike\n",
      "19   RC-1054             RC   5499           Stream II       Racing Bike\n",
      "20   RC-1055             RC   1999           Veloflash       Racing Bike\n",
      "21   RC-1056             RC   2499       Veloflash SE        Racing Bike\n",
      "22   RC-1057             RC   4999  Veloflash Ultimate       Racing Bike\n",
      "23   DB-1081             DB   1499         Rooty Basic     Downhill Bike\n",
      "24   DB-1082             DB   1250           Capricorn     Downhill Bike\n",
      "25   DB-1083             DB   1199        Capricorn II     Downhill Bike\n",
      "26   EB-1131             EB   1500         Flash Drive             eBike\n",
      "27   EB-1132             EB   1900      Flash Drive II             eBike\n",
      "28   EB-1133             EB   2250            Lazy Cat             eBike\n",
      "29   EB-1134             EB   4800         Lazy Cat II             eBike\n",
      "30   EB-1135             EB   3000            Speedeon             eBike\n",
      "31   EB-1136             EB   5000      Speedeon Light             eBike\n",
      "32   EB-1137             EB   7900      Speedeon Cross             eBike\n",
      "33   CB-1161             CB    399            La Plage           Cruiser\n",
      "34   CB-1162             CB    400    La Plage Limited           Cruiser\n",
      "35   CB-1163             CB    288       La Plage Gold           Cruiser\n",
      "36   HB-1171             HB    699         Star Cruise       Hybrid Bike\n",
      "37   HB-1172             HB    799      Star Cruise II       Hybrid Bike\n",
      "38   HB-1173             HB    649       Universal One       Hybrid Bike\n",
      "39   HB-1174             HB    379       Universal Two       Hybrid Bike\n",
      "40   HB-1175             HB    899           Specifica       Hybrid Bike\n",
      "41   HB-1176             HB   1199      Specifica Gold       Hybrid Bike\n"
     ]
    }
   ],
   "source": [
    "print(dim_productos)"
   ]
  },
  {
   "cell_type": "markdown",
   "metadata": {},
   "source": [
    "## Exportación de tablas limpias"
   ]
  },
  {
   "cell_type": "code",
   "execution_count": 37,
   "metadata": {},
   "outputs": [],
   "source": [
    "# Renombrar las tablas limpias\n",
    "clean_orden_ventas_item = raw_orden_ventas_item\n",
    "clean_productos = raw_productos\n",
    "clean_texto_productos = raw_texto_productos\n",
    "clean_texto_categoria_productos = raw_texto_categoria_productos\n",
    "\n",
    "# Guardar archivos CSV \n",
    "clean_orden_ventas_item.to_csv('../datasets/clean/clean_orden_ventas_item.csv', index=False)\n",
    "clean_productos.to_csv('../datasets/clean/clean_productos.csv', index=False)\n",
    "clean_texto_productos.to_csv('../datasets/clean/clean_texto_productos.csv', index=False)\n",
    "clean_texto_categoria_productos.to_csv('../datasets/clean/clean_texto_categoria_productos.csv', index=False)\n",
    "\n",
    "# Guardar archivos CSV de las tablas finales\n",
    "fct_ventas.to_csv('../datasets/clean/fct_ventas.csv', index=False)\n",
    "dim_productos.to_csv('../datasets/clean/dim_productos.csv', index=False)\n"
   ]
  },
  {
   "cell_type": "markdown",
   "metadata": {},
   "source": [
    "## Resumen final del proceso de Data Wrangling"
   ]
  },
  {
   "cell_type": "markdown",
   "metadata": {},
   "source": [
    "Durante esta etapa se llevó a cabo la limpieza, transformación y organización de los datos crudos provenientes del sistema SAP, con el objetivo de preparar la base para el modelado de predicción de ventas e inventario. El proceso incluyó:\n",
    "\n",
    "Selección y depuración de tablas relevantes, descartando aquellas irrelevantes o redundantes.\n",
    "\n",
    "Limpieza estructurada de cada tabla, eliminando columnas sin utilidad, valores nulos y duplicados.\n",
    "\n",
    "Estandarización de formatos de fecha, tipos de datos y nombres de columnas para garantizar consistencia.\n",
    "\n",
    "Construcción de dos tablas clave:\n",
    "\n",
    "fct_ventas: tabla de hechos con el detalle por producto, cantidad y precio.\n",
    "\n",
    "dim_productos: tabla dimensional con descripciones legibles de productos y categorías.\n",
    "\n",
    "Finalmente, todas las tablas limpias y transformadas fueron exportadas como archivos CSV a la carpeta ../datasets/clean/, y están listas para ser utilizadas en la siguiente etapa del proyecto: Feature Engineering y Modelado."
   ]
  },
  {
   "cell_type": "markdown",
   "metadata": {},
   "source": []
  }
 ],
 "metadata": {
  "kernelspec": {
   "display_name": "base",
   "language": "python",
   "name": "python3"
  },
  "language_info": {
   "codemirror_mode": {
    "name": "ipython",
    "version": 3
   },
   "file_extension": ".py",
   "mimetype": "text/x-python",
   "name": "python",
   "nbconvert_exporter": "python",
   "pygments_lexer": "ipython3",
   "version": "3.12.7"
  }
 },
 "nbformat": 4,
 "nbformat_minor": 2
}
