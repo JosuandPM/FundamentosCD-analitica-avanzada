{
 "cells": [
  {
   "cell_type": "code",
   "execution_count": 1,
   "metadata": {},
   "outputs": [],
   "source": [
    "import pandas as pd"
   ]
  },
  {
   "cell_type": "code",
   "execution_count": 36,
   "metadata": {},
   "outputs": [],
   "source": [
    "\n",
    "raw_texto_categoria_productos = pd.read_csv('../datasets/raw/ProductCategoryText.csv')\n",
    "raw_productos = pd.read_csv('../datasets/raw/Products.csv')\n",
    "raw_texto_productos = pd.read_csv('../datasets/raw/ProductTexts.csv')\n",
    "raw_orden_ventas_item = pd.read_csv('../datasets/raw/SalesOrderItems.csv')"
   ]
  },
  {
   "cell_type": "code",
   "execution_count": 38,
   "metadata": {},
   "outputs": [],
   "source": [
    "def eda(df, nombre, id='id'):\n",
    "    print(f'EDA de {nombre} \\n')\n",
    "    print('Primeras filas:')\n",
    "    print(df.head())\n",
    "    print()\n",
    "    \n",
    "    print(df.info())\n",
    "    print()\n",
    "\n",
    "    print('Filas enteras repeditas:', df.duplicated().sum())\n",
    "    print()\n",
    "\n",
    "    print('Filas con id repetido:', df.duplicated(id).sum())\n",
    "    print()\n",
    "\n",
    "    print('Valores ausentes:')\n",
    "    print(df.isna().sum())\n",
    "    print()"
   ]
  },
  {
   "cell_type": "markdown",
   "metadata": {},
   "source": [
    "## Ordenes de Venta por Item"
   ]
  },
  {
   "cell_type": "code",
   "execution_count": 39,
   "metadata": {},
   "outputs": [
    {
     "name": "stdout",
     "output_type": "stream",
     "text": [
      "EDA de raw_orden_ventas_item \n",
      "\n",
      "Primeras filas:\n",
      "   SALESORDERID  SALESORDERITEM PRODUCTID NOTEID CURRENCY  GROSSAMOUNT  \\\n",
      "0     500000000              10   MB-1034             USD         2499   \n",
      "1     500000000              20   CB-1161             USD          399   \n",
      "2     500000001              10   HB-1175             USD          899   \n",
      "3     500000001              20   RC-1056             USD         2499   \n",
      "4     500000001              30   CC-1021             USD         1144   \n",
      "\n",
      "   NETAMOUNT  TAXAMOUNT ITEMATPSTATUS  OPITEMPOS  QUANTITY QUANTITYUNIT  \\\n",
      "0   2186.625    312.375             I        NaN         4           EA   \n",
      "1    349.125     49.875             I        NaN         9           EA   \n",
      "2    786.625    112.375             I        NaN         2           EA   \n",
      "3   2186.625    312.375             I        NaN         2           EA   \n",
      "4   1001.000    143.000             I        NaN         3           EA   \n",
      "\n",
      "   DELIVERYDATE  \n",
      "0      20180311  \n",
      "1      20180311  \n",
      "2      20180228  \n",
      "3      20180228  \n",
      "4      20180228  \n",
      "\n",
      "<class 'pandas.core.frame.DataFrame'>\n",
      "RangeIndex: 1930 entries, 0 to 1929\n",
      "Data columns (total 13 columns):\n",
      " #   Column          Non-Null Count  Dtype  \n",
      "---  ------          --------------  -----  \n",
      " 0   SALESORDERID    1930 non-null   int64  \n",
      " 1   SALESORDERITEM  1930 non-null   int64  \n",
      " 2   PRODUCTID       1930 non-null   object \n",
      " 3   NOTEID          1930 non-null   object \n",
      " 4   CURRENCY        1930 non-null   object \n",
      " 5   GROSSAMOUNT     1930 non-null   int64  \n",
      " 6   NETAMOUNT       1930 non-null   float64\n",
      " 7   TAXAMOUNT       1930 non-null   float64\n",
      " 8   ITEMATPSTATUS   1930 non-null   object \n",
      " 9   OPITEMPOS       0 non-null      float64\n",
      " 10  QUANTITY        1930 non-null   int64  \n",
      " 11  QUANTITYUNIT    1930 non-null   object \n",
      " 12  DELIVERYDATE    1930 non-null   int64  \n",
      "dtypes: float64(3), int64(5), object(5)\n",
      "memory usage: 196.1+ KB\n",
      "None\n",
      "\n",
      "Filas enteras repeditas: 0\n",
      "\n",
      "Filas con id repetido: 1888\n",
      "\n",
      "Valores ausentes:\n",
      "SALESORDERID         0\n",
      "SALESORDERITEM       0\n",
      "PRODUCTID            0\n",
      "NOTEID               0\n",
      "CURRENCY             0\n",
      "GROSSAMOUNT          0\n",
      "NETAMOUNT            0\n",
      "TAXAMOUNT            0\n",
      "ITEMATPSTATUS        0\n",
      "OPITEMPOS         1930\n",
      "QUANTITY             0\n",
      "QUANTITYUNIT         0\n",
      "DELIVERYDATE         0\n",
      "dtype: int64\n",
      "\n"
     ]
    }
   ],
   "source": [
    "eda(raw_orden_ventas_item, \"raw_orden_ventas_item\", \"PRODUCTID\")"
   ]
  },
  {
   "cell_type": "code",
   "execution_count": 40,
   "metadata": {},
   "outputs": [],
   "source": [
    "# 1. Convertir DELIVERYDATE a tipo datetime\n",
    "raw_orden_ventas_item['DELIVERYDATE'] = pd.to_datetime(raw_orden_ventas_item['DELIVERYDATE'], format='%Y%m%d', errors='coerce')\n",
    "\n"
   ]
  },
  {
   "cell_type": "code",
   "execution_count": 41,
   "metadata": {},
   "outputs": [],
   "source": [
    "columnas_a_eliminar = [\n",
    "    'QUANTITYUNIT',\n",
    "    'NOTEID',\n",
    "    'TAXAMOUNT',\n",
    "    'ITEMATPSTATUS',\n",
    "    'SALESORDERID',\n",
    "    'SALESORDERITEM',\n",
    "    'CURRENCY',\n",
    "    'NETAMOUNT',\n",
    "    'OPITEMPOS'\n",
    "]\n",
    "\n",
    "raw_orden_ventas_item.drop(columns=[col for col in columnas_a_eliminar if col in raw_orden_ventas_item.columns], inplace=True)\n",
    "\n"
   ]
  },
  {
   "cell_type": "code",
   "execution_count": 42,
   "metadata": {},
   "outputs": [],
   "source": [
    "# 3. Eliminar filas con nulos en columnas críticas\n",
    "raw_orden_ventas_item.dropna(subset=['QUANTITY', 'DELIVERYDATE', 'PRODUCTID', 'GROSSAMOUNT'], inplace=True)\n"
   ]
  },
  {
   "cell_type": "code",
   "execution_count": 43,
   "metadata": {},
   "outputs": [],
   "source": [
    "\n",
    "# 4. Redondear valores monetarios y convertir QUANTITY a entero\n",
    "raw_orden_ventas_item['GROSSAMOUNT'] = raw_orden_ventas_item['GROSSAMOUNT'].astype(int)\n",
    "raw_orden_ventas_item['QUANTITY'] = raw_orden_ventas_item['QUANTITY'].astype(int)\n",
    "\n",
    "\n"
   ]
  },
  {
   "cell_type": "code",
   "execution_count": 44,
   "metadata": {},
   "outputs": [],
   "source": [
    "# 5. Detección y eliminación de outliers en QUANTITY\n",
    "Q1 = raw_orden_ventas_item['QUANTITY'].quantile(0.25)\n",
    "Q3 = raw_orden_ventas_item['QUANTITY'].quantile(0.75)\n",
    "IQR = Q3 - Q1\n",
    "limite_inferior = Q1 - 1.5 * IQR\n",
    "limite_superior = Q3 + 1.5 * IQR\n",
    "\n",
    "raw_orden_ventas_item = raw_orden_ventas_item[\n",
    "    (raw_orden_ventas_item['QUANTITY'] >= limite_inferior) &\n",
    "    (raw_orden_ventas_item['QUANTITY'] <= limite_superior)\n",
    "]\n",
    "\n"
   ]
  },
  {
   "cell_type": "code",
   "execution_count": 45,
   "metadata": {},
   "outputs": [],
   "source": [
    "# 6. Renombrar GROSSAMOUNT a PRICE_UNITARIO para reflejar su verdadero significado\n",
    "raw_orden_ventas_item.rename(columns={'GROSSAMOUNT': 'PRICE_UNITARIO'}, inplace=True)"
   ]
  },
  {
   "cell_type": "code",
   "execution_count": 46,
   "metadata": {},
   "outputs": [
    {
     "name": "stdout",
     "output_type": "stream",
     "text": [
      "     PRODUCTID  PRICE_UNITARIO  QUANTITY DELIVERYDATE\n",
      "0      MB-1034            2499         4   2018-03-11\n",
      "1      CB-1161             399         9   2018-03-11\n",
      "2      HB-1175             899         2   2018-02-28\n",
      "3      RC-1056            2499         2   2018-02-28\n",
      "4      CC-1021            1144         3   2018-02-28\n",
      "...        ...             ...       ...          ...\n",
      "1925   MB-1031             649        10   2019-07-09\n",
      "1926   BX-1013             449         3   2019-07-09\n",
      "1927   EB-1132            1900         3   2019-07-09\n",
      "1928   BX-1011             249         5   2019-07-09\n",
      "1929   BX-1015             299         6   2019-07-09\n",
      "\n",
      "[1908 rows x 4 columns]\n"
     ]
    }
   ],
   "source": [
    "print(raw_orden_ventas_item)"
   ]
  },
  {
   "cell_type": "markdown",
   "metadata": {},
   "source": [
    "## Text Category Products\n"
   ]
  },
  {
   "cell_type": "code",
   "execution_count": 19,
   "metadata": {},
   "outputs": [
    {
     "name": "stdout",
     "output_type": "stream",
     "text": [
      "EDA de raw_texto_categoria_productos \n",
      "\n",
      "Primeras filas:\n",
      "  PRODCATEGORYID LANGUAGE       SHORT_DESCR  MEDIUM_DESCR  LONG_DESCR\n",
      "0             RO       EN         Road Bike           NaN         NaN\n",
      "1             BX       EN               BMX           NaN         NaN\n",
      "2             CC       EN  Cyclo-cross Bike           NaN         NaN\n",
      "3             MB       EN     Mountain Bike           NaN         NaN\n",
      "4             RC       EN       Racing Bike           NaN         NaN\n",
      "\n",
      "<class 'pandas.core.frame.DataFrame'>\n",
      "RangeIndex: 9 entries, 0 to 8\n",
      "Data columns (total 5 columns):\n",
      " #   Column          Non-Null Count  Dtype  \n",
      "---  ------          --------------  -----  \n",
      " 0   PRODCATEGORYID  9 non-null      object \n",
      " 1   LANGUAGE        9 non-null      object \n",
      " 2   SHORT_DESCR     9 non-null      object \n",
      " 3   MEDIUM_DESCR    0 non-null      float64\n",
      " 4   LONG_DESCR      0 non-null      float64\n",
      "dtypes: float64(2), object(3)\n",
      "memory usage: 492.0+ bytes\n",
      "None\n",
      "\n",
      "Filas enteras repeditas: 0\n",
      "\n",
      "Filas con id repetido: 0\n",
      "\n",
      "Valores ausentes:\n",
      "PRODCATEGORYID    0\n",
      "LANGUAGE          0\n",
      "SHORT_DESCR       0\n",
      "MEDIUM_DESCR      9\n",
      "LONG_DESCR        9\n",
      "dtype: int64\n",
      "\n"
     ]
    }
   ],
   "source": [
    "eda(raw_texto_categoria_productos, \"raw_texto_categoria_productos\", \"PRODCATEGORYID\")"
   ]
  },
  {
   "cell_type": "markdown",
   "metadata": {},
   "source": [
    "Esta tabla contiene columnas descriptivas como el nombre de la categoría y el idioma, asociadas al código PRODUCTCATEGORY.\n",
    "Su uso principal es como dimensión descriptiva en una tabla dimensional (por ejemplo, para mostrar el nombre de la categoría en reportes), pero no aporta métricas numéricas ni datos que puedan ser analizados mediante gráficas o estadísticas."
   ]
  },
  {
   "cell_type": "markdown",
   "metadata": {},
   "source": [
    "## Products\n"
   ]
  },
  {
   "cell_type": "code",
   "execution_count": 20,
   "metadata": {},
   "outputs": [
    {
     "name": "stdout",
     "output_type": "stream",
     "text": [
      "EDA de raw_productos \n",
      "\n",
      "Primeras filas:\n",
      "  PRODUCTID TYPECODE PRODCATEGORYID  CREATEDBY  CREATEDAT  CHANGEDBY  \\\n",
      "0   RO-1001       PR             RO          9   20181003          9   \n",
      "1   RO-1002       PR             RO          9   20181003          9   \n",
      "2   RO-1003       PR             RO         12   20181003         12   \n",
      "3   BX-1011       PR             BX          9   20181003          9   \n",
      "4   BX-1012       PR             BX          6   20181003          6   \n",
      "\n",
      "   CHANGEDAT  SUPPLIER_PARTNERID  TAXTARIFFCODE QUANTITYUNIT  WEIGHTMEASURE  \\\n",
      "0   20181003           100000000              1           EA            7.7   \n",
      "1   20181003           100000001              1           EA            8.0   \n",
      "2   20181003           100000002              1           EA            9.1   \n",
      "3   20181003           100000003              1           EA           11.1   \n",
      "4   20181003           100000004              1           EA           12.0   \n",
      "\n",
      "  WEIGHTUNIT CURRENCY  PRICE  WIDTH  DEPTH  HEIGHT  DIMENSIONUNIT  \\\n",
      "0         KG      USD    525    NaN    NaN     NaN            NaN   \n",
      "1         KG      USD    689    NaN    NaN     NaN            NaN   \n",
      "2         KG      USD    721    NaN    NaN     NaN            NaN   \n",
      "3         KG      USD    249    NaN    NaN     NaN            NaN   \n",
      "4         KG      USD    399    NaN    NaN     NaN            NaN   \n",
      "\n",
      "   PRODUCTPICURL  \n",
      "0            NaN  \n",
      "1            NaN  \n",
      "2            NaN  \n",
      "3            NaN  \n",
      "4            NaN  \n",
      "\n",
      "<class 'pandas.core.frame.DataFrame'>\n",
      "RangeIndex: 42 entries, 0 to 41\n",
      "Data columns (total 19 columns):\n",
      " #   Column              Non-Null Count  Dtype  \n",
      "---  ------              --------------  -----  \n",
      " 0   PRODUCTID           42 non-null     object \n",
      " 1   TYPECODE            42 non-null     object \n",
      " 2   PRODCATEGORYID      42 non-null     object \n",
      " 3   CREATEDBY           42 non-null     int64  \n",
      " 4   CREATEDAT           42 non-null     int64  \n",
      " 5   CHANGEDBY           42 non-null     int64  \n",
      " 6   CHANGEDAT           42 non-null     int64  \n",
      " 7   SUPPLIER_PARTNERID  42 non-null     int64  \n",
      " 8   TAXTARIFFCODE       42 non-null     int64  \n",
      " 9   QUANTITYUNIT        42 non-null     object \n",
      " 10  WEIGHTMEASURE       42 non-null     float64\n",
      " 11  WEIGHTUNIT          42 non-null     object \n",
      " 12  CURRENCY            42 non-null     object \n",
      " 13  PRICE               42 non-null     int64  \n",
      " 14  WIDTH               0 non-null      float64\n",
      " 15  DEPTH               0 non-null      float64\n",
      " 16  HEIGHT              0 non-null      float64\n",
      " 17  DIMENSIONUNIT       0 non-null      float64\n",
      " 18  PRODUCTPICURL       0 non-null      float64\n",
      "dtypes: float64(6), int64(7), object(6)\n",
      "memory usage: 6.4+ KB\n",
      "None\n",
      "\n",
      "Filas enteras repeditas: 0\n",
      "\n",
      "Filas con id repetido: 0\n",
      "\n",
      "Valores ausentes:\n",
      "PRODUCTID              0\n",
      "TYPECODE               0\n",
      "PRODCATEGORYID         0\n",
      "CREATEDBY              0\n",
      "CREATEDAT              0\n",
      "CHANGEDBY              0\n",
      "CHANGEDAT              0\n",
      "SUPPLIER_PARTNERID     0\n",
      "TAXTARIFFCODE          0\n",
      "QUANTITYUNIT           0\n",
      "WEIGHTMEASURE          0\n",
      "WEIGHTUNIT             0\n",
      "CURRENCY               0\n",
      "PRICE                  0\n",
      "WIDTH                 42\n",
      "DEPTH                 42\n",
      "HEIGHT                42\n",
      "DIMENSIONUNIT         42\n",
      "PRODUCTPICURL         42\n",
      "dtype: int64\n",
      "\n"
     ]
    }
   ],
   "source": [
    "eda(raw_productos, \"raw_productos\", \"PRODUCTID\")"
   ]
  },
  {
   "cell_type": "code",
   "execution_count": 21,
   "metadata": {},
   "outputs": [
    {
     "name": "stdout",
     "output_type": "stream",
     "text": [
      "   PRODUCTID TYPECODE PRODCATEGORYID  CREATEDBY  CREATEDAT  CHANGEDBY  \\\n",
      "0    RO-1001       PR             RO          9   20181003          9   \n",
      "1    RO-1002       PR             RO          9   20181003          9   \n",
      "2    RO-1003       PR             RO         12   20181003         12   \n",
      "3    BX-1011       PR             BX          9   20181003          9   \n",
      "4    BX-1012       PR             BX          6   20181003          6   \n",
      "5    BX-1013       PR             BX          7   20181003          7   \n",
      "6    BX-1014       PR             BX         11   20181003         11   \n",
      "7    BX-1015       PR             BX          8   20181003          8   \n",
      "8    BX-1016       PR             BX         11   20181003         11   \n",
      "9    CC-1021       PR             CC         10   20181003         10   \n",
      "10   CC-1022       PR             CC         13   20181003         13   \n",
      "11   CC-1023       PR             CC         12   20181003         12   \n",
      "12   MB-1031       PR             MB         12   20181003         12   \n",
      "13   MB-1032       PR             MB          2   20181003          2   \n",
      "14   MB-1033       PR             MB          7   20181003          7   \n",
      "15   MB-1034       PR             MB         11   20181003         11   \n",
      "16   RC-1051       PR             RC          1   20181003          1   \n",
      "17   RC-1052       PR             RC          5   20181003          5   \n",
      "18   RC-1053       PR             RC          3   20181003          3   \n",
      "19   RC-1054       PR             RC         14   20181003         14   \n",
      "20   RC-1055       PR             RC          2   20181003          2   \n",
      "21   RC-1056       PR             RC         13   20181003         13   \n",
      "22   RC-1057       PR             RC         12   20181003         12   \n",
      "23   DB-1081       PR             DB         10   20181003         10   \n",
      "24   DB-1082       PR             DB          4   20181003          4   \n",
      "25   DB-1083       PR             DB          6   20181003          6   \n",
      "26   EB-1131       PR             EB         14   20181003         14   \n",
      "27   EB-1132       PR             EB         14   20181003         14   \n",
      "28   EB-1133       PR             EB          5   20181003          5   \n",
      "29   EB-1134       PR             EB          4   20181003          4   \n",
      "30   EB-1135       PR             EB         12   20181003         12   \n",
      "31   EB-1136       PR             EB          7   20181003          7   \n",
      "32   EB-1137       PR             EB          6   20181003          6   \n",
      "33   CB-1161       PR             CB          6   20181003          6   \n",
      "34   CB-1162       PR             CB          9   20181003          9   \n",
      "35   CB-1163       PR             CB         14   20181003         14   \n",
      "36   HB-1171       PR             HB          1   20181003          1   \n",
      "37   HB-1172       PR             HB          1   20181003          1   \n",
      "38   HB-1173       PR             HB          3   20181003          3   \n",
      "39   HB-1174       PR             HB          3   20181003          3   \n",
      "40   HB-1175       PR             HB          7   20181003          7   \n",
      "41   HB-1176       PR             HB          5   20181003          5   \n",
      "\n",
      "    CHANGEDAT  SUPPLIER_PARTNERID  TAXTARIFFCODE QUANTITYUNIT  WEIGHTMEASURE  \\\n",
      "0    20181003           100000000              1           EA            7.7   \n",
      "1    20181003           100000001              1           EA            8.0   \n",
      "2    20181003           100000002              1           EA            9.1   \n",
      "3    20181003           100000003              1           EA           11.1   \n",
      "4    20181003           100000004              1           EA           12.0   \n",
      "5    20181003           100000005              1           EA           13.1   \n",
      "6    20181003           100000006              1           EA           11.8   \n",
      "7    20181003           100000007              1           EA           12.5   \n",
      "8    20181003           100000008              1           EA           12.8   \n",
      "9    20181003           100000009              1           EA            8.1   \n",
      "10   20181003           100000010              1           EA            8.0   \n",
      "11   20181003           100000011              1           EA            8.6   \n",
      "12   20181003           100000012              1           EA           12.7   \n",
      "13   20181003           100000013              1           EA           12.0   \n",
      "14   20181003           100000014              1           EA           13.1   \n",
      "15   20181003           100000015              1           EA           12.5   \n",
      "16   20181003           100000016              1           EA            7.1   \n",
      "17   20181003           100000017              1           EA            7.5   \n",
      "18   20181003           100000018              1           EA            6.9   \n",
      "19   20181003           100000019              1           EA            7.0   \n",
      "20   20181003           100000020              1           EA            7.2   \n",
      "21   20181003           100000021              1           EA            7.8   \n",
      "22   20181003           100000022              1           EA            7.3   \n",
      "23   20181003           100000023              1           EA           13.6   \n",
      "24   20181003           100000024              1           EA           14.3   \n",
      "25   20181003           100000025              1           EA           15.4   \n",
      "26   20181003           100000026              1           EA           18.1   \n",
      "27   20181003           100000027              1           EA           18.8   \n",
      "28   20181003           100000028              1           EA           21.0   \n",
      "29   20181003           100000029              1           EA           20.1   \n",
      "30   20181003           100000030              1           EA           19.3   \n",
      "31   20181003           100000031              1           EA           20.5   \n",
      "32   20181003           100000032              1           EA           22.0   \n",
      "33   20181003           100000033              1           EA           15.0   \n",
      "34   20181003           100000034              1           EA           18.0   \n",
      "35   20181003           100000035              1           EA           16.0   \n",
      "36   20181003           100000036              1           EA           11.0   \n",
      "37   20181003           100000037              1           EA           12.1   \n",
      "38   20181003           100000038              1           EA           13.5   \n",
      "39   20181003           100000039              1           EA           11.8   \n",
      "40   20181003           100000040              1           EA           12.5   \n",
      "41   20181003           100000041              1           EA           12.9   \n",
      "\n",
      "   WEIGHTUNIT CURRENCY  PRICE  WIDTH  DEPTH  HEIGHT  DIMENSIONUNIT  \\\n",
      "0          KG      USD    525    NaN    NaN     NaN            NaN   \n",
      "1          KG      USD    689    NaN    NaN     NaN            NaN   \n",
      "2          KG      USD    721    NaN    NaN     NaN            NaN   \n",
      "3          KG      USD    249    NaN    NaN     NaN            NaN   \n",
      "4          KG      USD    399    NaN    NaN     NaN            NaN   \n",
      "5          KG      USD    449    NaN    NaN     NaN            NaN   \n",
      "6          KG      USD    799    NaN    NaN     NaN            NaN   \n",
      "7          KG      USD    299    NaN    NaN     NaN            NaN   \n",
      "8          KG      USD    319    NaN    NaN     NaN            NaN   \n",
      "9          KG      USD   1144    NaN    NaN     NaN            NaN   \n",
      "10         KG      USD   1200    NaN    NaN     NaN            NaN   \n",
      "11         KG      USD   1361    NaN    NaN     NaN            NaN   \n",
      "12         KG      USD    649    NaN    NaN     NaN            NaN   \n",
      "13         KG      USD   1299    NaN    NaN     NaN            NaN   \n",
      "14         KG      USD   3999    NaN    NaN     NaN            NaN   \n",
      "15         KG      USD   2499    NaN    NaN     NaN            NaN   \n",
      "16         KG      USD   2499    NaN    NaN     NaN            NaN   \n",
      "17         KG      USD   3999    NaN    NaN     NaN            NaN   \n",
      "18         KG      USD   4599    NaN    NaN     NaN            NaN   \n",
      "19         KG      USD   5499    NaN    NaN     NaN            NaN   \n",
      "20         KG      USD   1999    NaN    NaN     NaN            NaN   \n",
      "21         KG      USD   2499    NaN    NaN     NaN            NaN   \n",
      "22         KG      USD   4999    NaN    NaN     NaN            NaN   \n",
      "23         KG      USD   1499    NaN    NaN     NaN            NaN   \n",
      "24         KG      USD   1250    NaN    NaN     NaN            NaN   \n",
      "25         KG      USD   1199    NaN    NaN     NaN            NaN   \n",
      "26         KG      USD   1500    NaN    NaN     NaN            NaN   \n",
      "27         KG      USD   1900    NaN    NaN     NaN            NaN   \n",
      "28         KG      USD   2250    NaN    NaN     NaN            NaN   \n",
      "29         KG      USD   4800    NaN    NaN     NaN            NaN   \n",
      "30         KG      USD   3000    NaN    NaN     NaN            NaN   \n",
      "31         KG      USD   5000    NaN    NaN     NaN            NaN   \n",
      "32         KG      USD   7900    NaN    NaN     NaN            NaN   \n",
      "33         KG      USD    399    NaN    NaN     NaN            NaN   \n",
      "34         KG      USD    400    NaN    NaN     NaN            NaN   \n",
      "35         KG      USD    288    NaN    NaN     NaN            NaN   \n",
      "36         KG      USD    699    NaN    NaN     NaN            NaN   \n",
      "37         KG      USD    799    NaN    NaN     NaN            NaN   \n",
      "38         KG      USD    649    NaN    NaN     NaN            NaN   \n",
      "39         KG      USD    379    NaN    NaN     NaN            NaN   \n",
      "40         KG      USD    899    NaN    NaN     NaN            NaN   \n",
      "41         KG      USD   1199    NaN    NaN     NaN            NaN   \n",
      "\n",
      "    PRODUCTPICURL  \n",
      "0             NaN  \n",
      "1             NaN  \n",
      "2             NaN  \n",
      "3             NaN  \n",
      "4             NaN  \n",
      "5             NaN  \n",
      "6             NaN  \n",
      "7             NaN  \n",
      "8             NaN  \n",
      "9             NaN  \n",
      "10            NaN  \n",
      "11            NaN  \n",
      "12            NaN  \n",
      "13            NaN  \n",
      "14            NaN  \n",
      "15            NaN  \n",
      "16            NaN  \n",
      "17            NaN  \n",
      "18            NaN  \n",
      "19            NaN  \n",
      "20            NaN  \n",
      "21            NaN  \n",
      "22            NaN  \n",
      "23            NaN  \n",
      "24            NaN  \n",
      "25            NaN  \n",
      "26            NaN  \n",
      "27            NaN  \n",
      "28            NaN  \n",
      "29            NaN  \n",
      "30            NaN  \n",
      "31            NaN  \n",
      "32            NaN  \n",
      "33            NaN  \n",
      "34            NaN  \n",
      "35            NaN  \n",
      "36            NaN  \n",
      "37            NaN  \n",
      "38            NaN  \n",
      "39            NaN  \n",
      "40            NaN  \n",
      "41            NaN  \n"
     ]
    }
   ],
   "source": [
    "print(raw_productos)"
   ]
  },
  {
   "cell_type": "code",
   "execution_count": 31,
   "metadata": {},
   "outputs": [
    {
     "data": {
      "text/plain": [
       "count      42.000000\n",
       "mean     1873.857143\n",
       "std      1799.797476\n",
       "min       249.000000\n",
       "25%       649.000000\n",
       "50%      1199.500000\n",
       "75%      2499.000000\n",
       "max      7900.000000\n",
       "Name: PRICE, dtype: float64"
      ]
     },
     "execution_count": 31,
     "metadata": {},
     "output_type": "execute_result"
    }
   ],
   "source": [
    "raw_productos['PRICE'].describe()\n"
   ]
  },
  {
   "cell_type": "code",
   "execution_count": 32,
   "metadata": {},
   "outputs": [
    {
     "data": {
      "text/plain": [
       "PRODCATEGORYID\n",
       "RC    7\n",
       "EB    7\n",
       "BX    6\n",
       "HB    6\n",
       "MB    4\n",
       "RO    3\n",
       "CC    3\n",
       "DB    3\n",
       "CB    3\n",
       "Name: count, dtype: int64"
      ]
     },
     "execution_count": 32,
     "metadata": {},
     "output_type": "execute_result"
    }
   ],
   "source": [
    "raw_productos['PRODCATEGORYID'].value_counts()"
   ]
  },
  {
   "cell_type": "code",
   "execution_count": 37,
   "metadata": {},
   "outputs": [
    {
     "name": "stderr",
     "output_type": "stream",
     "text": [
      "C:\\Users\\jpare\\AppData\\Local\\Temp\\ipykernel_21144\\1179950839.py:5: MatplotlibDeprecationWarning: The 'labels' parameter of boxplot() has been renamed 'tick_labels' since Matplotlib 3.9; support for the old name will be dropped in 3.11.\n",
      "  plt.boxplot(precios_por_categoria, labels=categorias)\n"
     ]
    },
    {
     "data": {
      "image/png": "[encoded data removed]",
      "text/plain": [
       "<Figure size 1000x500 with 1 Axes>"
      ]
     },
     "metadata": {},
     "output_type": "display_data"
    }
   ],
   "source": [
    "categorias = raw_productos['PRODCATEGORYID'].unique()\n",
    "precios_por_categoria = [raw_productos[raw_productos['PRODCATEGORYID'] == cat]['PRICE'] for cat in categorias]\n",
    "\n",
    "plt.figure(figsize=(10, 5))\n",
    "plt.boxplot(precios_por_categoria, labels=categorias)\n",
    "plt.title('Distribución de Precios por Categoría de Producto')\n",
    "plt.xlabel('ID de Categoría')\n",
    "plt.ylabel('Precio')\n",
    "plt.grid(True)\n",
    "plt.tight_layout()\n",
    "plt.show()"
   ]
  },
  {
   "cell_type": "code",
   "execution_count": 22,
   "metadata": {},
   "outputs": [
    {
     "data": {
      "image/png": "[encoded data removed]",
      "text/plain": [
       "<Figure size 1000x500 with 1 Axes>"
      ]
     },
     "metadata": {},
     "output_type": "display_data"
    }
   ],
   "source": [
    "conteo_categorias = raw_productos['PRODCATEGORYID'].value_counts()\n",
    "plt.figure(figsize=(10, 5))\n",
    "conteo_categorias.plot(kind='bar', color='skyblue', edgecolor='black')\n",
    "plt.title('Cantidad de Productos por Categoría')\n",
    "plt.xlabel('Categoría de Producto')\n",
    "plt.ylabel('Cantidad')\n",
    "plt.grid(True)\n",
    "plt.xticks(rotation=45)\n",
    "plt.tight_layout()\n",
    "plt.show()"
   ]
  },
  {
   "cell_type": "code",
   "execution_count": 23,
   "metadata": {},
   "outputs": [
    {
     "data": {
      "image/png": "[encoded data removed]",
      "text/plain": [
       "<Figure size 800x500 with 1 Axes>"
      ]
     },
     "metadata": {},
     "output_type": "display_data"
    }
   ],
   "source": [
    "plt.figure(figsize=(8, 5))\n",
    "plt.hist(raw_productos['PRICE'], bins=30, color='orange', edgecolor='black')\n",
    "plt.title('Distribución de Precios de Productos')\n",
    "plt.xlabel('Precio')\n",
    "plt.ylabel('Frecuencia')\n",
    "plt.grid(True)\n",
    "plt.tight_layout()\n",
    "plt.show()"
   ]
  },
  {
   "cell_type": "markdown",
   "metadata": {},
   "source": [
    "Las columnas clave en esta tabla son PRODUCTID, PRODCATEGORYID y PRICE.\n",
    "Estas permiten:\n",
    "\n",
    "Asociar cada producto a una categoría para análisis agregados (ventas por categoría).\n",
    "\n",
    "Incorporar el precio base del producto para calcular márgenes o ingresos.\n",
    "\n",
    "Vincular con otras tablas como Ordenes de Venta por Item para construir una vista unificada de ventas, inventario y comportamiento del producto."
   ]
  },
  {
   "cell_type": "markdown",
   "metadata": {},
   "source": [
    "## Texto Productos"
   ]
  },
  {
   "cell_type": "code",
   "execution_count": 24,
   "metadata": {},
   "outputs": [
    {
     "name": "stdout",
     "output_type": "stream",
     "text": [
      "EDA de raw_texto_productos \n",
      "\n",
      "Primeras filas:\n",
      "  PRODUCTID LANGUAGE       SHORT_DESCR MEDIUM_DESCR  LONG_DESCR\n",
      "0   RO-1001       EN        Roady 1001          NaN         NaN\n",
      "1   RO-1002       EN        Roady 1002          NaN         NaN\n",
      "2   RO-1003       EN        Roady 1003          NaN         NaN\n",
      "3   BX-1011       EN  BMX Vintage 1011          NaN         NaN\n",
      "4   BX-1012       EN     BMX Jump 1012          NaN         NaN\n",
      "\n",
      "<class 'pandas.core.frame.DataFrame'>\n",
      "RangeIndex: 44 entries, 0 to 43\n",
      "Data columns (total 5 columns):\n",
      " #   Column        Non-Null Count  Dtype  \n",
      "---  ------        --------------  -----  \n",
      " 0   PRODUCTID     44 non-null     object \n",
      " 1   LANGUAGE      44 non-null     object \n",
      " 2   SHORT_DESCR   44 non-null     object \n",
      " 3   MEDIUM_DESCR  36 non-null     object \n",
      " 4   LONG_DESCR    0 non-null      float64\n",
      "dtypes: float64(1), object(4)\n",
      "memory usage: 1.8+ KB\n",
      "None\n",
      "\n",
      "Filas enteras repeditas: 0\n",
      "\n",
      "Filas con id repetido: 2\n",
      "\n",
      "Valores ausentes:\n",
      "PRODUCTID        0\n",
      "LANGUAGE         0\n",
      "SHORT_DESCR      0\n",
      "MEDIUM_DESCR     8\n",
      "LONG_DESCR      44\n",
      "dtype: int64\n",
      "\n"
     ]
    }
   ],
   "source": [
    "eda(raw_texto_productos, \"raw_texto_productos\", \"PRODUCTID\")"
   ]
  },
  {
   "cell_type": "markdown",
   "metadata": {},
   "source": [
    "Esta tabla contiene descripciones de productos (PRODUCTNAME) y el idioma (LANGU).\n",
    "Al igual que Text Category Products, su función principal es informativa para enriquecer una tabla dimensional o reportes visuales, pero no contiene datos numéricos ni permite análisis estadístico o visualizaciones relevantes."
   ]
  },
  {
   "cell_type": "markdown",
   "metadata": {},
   "source": [
    "## Conclusiones Generales"
   ]
  },
  {
   "cell_type": "markdown",
   "metadata": {},
   "source": [
    "1. Selección y descarte de tablas\n",
    "Se descartaron las tablas raw_direcciones y raw_socios por no tener relación con el objetivo de predicción de ventas e inventario.\n",
    "\n",
    "También se excluyeron raw_categoria_productos y raw_orden_ventas, ya que su información es redundante o está a un nivel muy general.\n",
    "\n",
    "Se seleccionaron las tablas clave:\n",
    "\n",
    "raw_orden_ventas_item\n",
    "\n",
    "raw_productos\n",
    "\n",
    "raw_texto_productos\n",
    "\n",
    "raw_texto_categoria_productos\n",
    "Estas contienen las variables necesarias como cantidades, fechas, precios y descripciones.\n",
    "\n",
    "2. Análisis de la tabla raw_orden_ventas_item\n",
    "Variables clave: PRODUCTID, GROSSAMOUNT (precio unitario), QUANTITY, DELIVERYDATE.\n",
    "\n",
    "Se generaron estadísticas descriptivas y visualizaciones (histogramas, boxplots, scatter plots) que muestran:\n",
    "\n",
    "Distribuciones normales y patrones de agrupamiento en los precios.\n",
    "\n",
    "Relación directa entre cantidad y precio unitario.\n",
    "\n",
    "Estas variables permitirán construir tablas de hechos para el modelado y la predicción de demanda.\n",
    "\n",
    "3. Análisis de la tabla raw_productos\n",
    "Variables importantes: PRODUCTID, PRODCATEGORYID, PRICE.\n",
    "\n",
    "Se observaron precios discretos con repeticiones consistentes.\n",
    "\n",
    "Se generaron gráficos de distribución de precios y boxplots por categoría, lo cual permitirá evaluar diferencias entre grupos de productos y facilitar futuras segmentaciones.\n",
    "\n",
    "4. Tablas raw_texto_productos y raw_texto_categoria_productos\n",
    "Ambas contienen información descriptiva útil para enriquecer visualizaciones o construir tablas dimensionales.\n",
    "\n",
    "No aportan datos numéricos ni permitieron generar visualizaciones relevantes dentro del EDA.\n",
    "\n",
    "Se utilizarán como soporte en el Wrangling para unir nombres legibles a los códigos de producto y categoría.\n",
    "\n",
    "5. Observaciones adicionales\n",
    "GROSSAMOUNT representa directamente el precio unitario (PRICE), por lo que no requiere derivación adicional.\n",
    "\n",
    "No se detectaron outliers evidentes en los precios, pero se recomienda validar consistencia entre productos y precios en fases posteriores."
   ]
  }
 ],
 "metadata": {
  "kernelspec": {
   "display_name": "base",
   "language": "python",
   "name": "python3"
  },
  "language_info": {
   "codemirror_mode": {
    "name": "ipython",
    "version": 3
   },
   "file_extension": ".py",
   "mimetype": "text/x-python",
   "name": "python",
   "nbconvert_exporter": "python",
   "pygments_lexer": "ipython3",
   "version": "3.12.7"
  }
 },
 "nbformat": 4,
 "nbformat_minor": 2
}
