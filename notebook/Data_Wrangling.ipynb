{
 "cells": [
  {
   "cell_type": "markdown",
   "id": "12c83b99",
   "metadata": {},
   "source": [
    "# Data Wrangling - Proyecto Predicción de Ventas e Inventario\n",
    "Este notebook contiene las transformaciones necesarias para limpiar los datos, con explicaciones claras de cada paso y la justificación de las decisiones tomadas."
   ]
  },
  {
   "cell_type": "code",
   "execution_count": 1,
   "id": "c5fe2627",
   "metadata": {},
   "outputs": [],
   "source": [
    "import pandas as pd\n",
    "import matplotlib.pyplot as plt"
   ]
  },
  {
   "cell_type": "markdown",
   "id": "b9dca094",
   "metadata": {},
   "source": [
    "### Carga de Datos\n",
    "Se cargan los archivos CSV desde el sistema contable ERP (SAP)."
   ]
  },
  {
   "cell_type": "code",
   "execution_count": 2,
   "id": "3d727e7c",
   "metadata": {},
   "outputs": [],
   "source": [
    "raw_categoria_productos = pd.read_csv('../datasets/raw/ProductCategories.csv')\n",
    "raw_productos = pd.read_csv('../datasets/raw/Products.csv')\n",
    "raw_orden_ventas_item = pd.read_csv('../datasets/raw/SalesOrderItems.csv')\n",
    "raw_orden_ventas = pd.read_csv('../datasets/raw/SalesOrders.csv')"
   ]
  },
  {
   "cell_type": "markdown",
   "id": "024a564f",
   "metadata": {},
   "source": [
    "### Eliminación de Duplicados\n",
    "Se eliminan filas duplicadas para evitar distorsionar análisis."
   ]
  },
  {
   "cell_type": "code",
   "execution_count": 3,
   "id": "8d0572e8",
   "metadata": {},
   "outputs": [],
   "source": [
    "def eda(df, nombre, id='id'):\n",
    "    print(f'EDA de {nombre} \\n')\n",
    "    print('Primeras filas:')\n",
    "    print(df.head())\n",
    "    print()\n",
    "    \n",
    "    print(df.info())\n",
    "    print()\n",
    "\n",
    "    print('Filas enteras repeditas:', df.duplicated().sum())\n",
    "    print()\n",
    "\n",
    "    print('Filas con id repetido:', df.duplicated(id).sum())\n",
    "    print()\n",
    "\n",
    "    print('Valores ausentes:')\n",
    "    print(df.isna().sum())\n",
    "    print()"
   ]
  },
  {
   "cell_type": "markdown",
   "id": "beabd26e",
   "metadata": {},
   "source": [
    "## SalesOrderItems"
   ]
  },
  {
   "cell_type": "code",
   "execution_count": 4,
   "id": "acfa11ea",
   "metadata": {},
   "outputs": [
    {
     "name": "stdout",
     "output_type": "stream",
     "text": [
      "EDA de raw_orden_ventas_item \n",
      "\n",
      "Primeras filas:\n",
      "   SALESORDERID  SALESORDERITEM PRODUCTID NOTEID CURRENCY  GROSSAMOUNT  \\\n",
      "0     500000000              10   MB-1034             USD         2499   \n",
      "1     500000000              20   CB-1161             USD          399   \n",
      "2     500000001              10   HB-1175             USD          899   \n",
      "3     500000001              20   RC-1056             USD         2499   \n",
      "4     500000001              30   CC-1021             USD         1144   \n",
      "\n",
      "   NETAMOUNT  TAXAMOUNT ITEMATPSTATUS  OPITEMPOS  QUANTITY QUANTITYUNIT  \\\n",
      "0   2186.625    312.375             I        NaN         4           EA   \n",
      "1    349.125     49.875             I        NaN         9           EA   \n",
      "2    786.625    112.375             I        NaN         2           EA   \n",
      "3   2186.625    312.375             I        NaN         2           EA   \n",
      "4   1001.000    143.000             I        NaN         3           EA   \n",
      "\n",
      "   DELIVERYDATE  \n",
      "0      20180311  \n",
      "1      20180311  \n",
      "2      20180228  \n",
      "3      20180228  \n",
      "4      20180228  \n",
      "\n",
      "<class 'pandas.core.frame.DataFrame'>\n",
      "RangeIndex: 1930 entries, 0 to 1929\n",
      "Data columns (total 13 columns):\n",
      " #   Column          Non-Null Count  Dtype  \n",
      "---  ------          --------------  -----  \n",
      " 0   SALESORDERID    1930 non-null   int64  \n",
      " 1   SALESORDERITEM  1930 non-null   int64  \n",
      " 2   PRODUCTID       1930 non-null   object \n",
      " 3   NOTEID          1930 non-null   object \n",
      " 4   CURRENCY        1930 non-null   object \n",
      " 5   GROSSAMOUNT     1930 non-null   int64  \n",
      " 6   NETAMOUNT       1930 non-null   float64\n",
      " 7   TAXAMOUNT       1930 non-null   float64\n",
      " 8   ITEMATPSTATUS   1930 non-null   object \n",
      " 9   OPITEMPOS       0 non-null      float64\n",
      " 10  QUANTITY        1930 non-null   int64  \n",
      " 11  QUANTITYUNIT    1930 non-null   object \n",
      " 12  DELIVERYDATE    1930 non-null   int64  \n",
      "dtypes: float64(3), int64(5), object(5)\n",
      "memory usage: 196.1+ KB\n",
      "None\n",
      "\n",
      "Filas enteras repeditas: 0\n",
      "\n",
      "Filas con id repetido: 1888\n",
      "\n",
      "Valores ausentes:\n",
      "SALESORDERID         0\n",
      "SALESORDERITEM       0\n",
      "PRODUCTID            0\n",
      "NOTEID               0\n",
      "CURRENCY             0\n",
      "GROSSAMOUNT          0\n",
      "NETAMOUNT            0\n",
      "TAXAMOUNT            0\n",
      "ITEMATPSTATUS        0\n",
      "OPITEMPOS         1930\n",
      "QUANTITY             0\n",
      "QUANTITYUNIT         0\n",
      "DELIVERYDATE         0\n",
      "dtype: int64\n",
      "\n"
     ]
    }
   ],
   "source": [
    "eda(raw_orden_ventas_item, \"raw_orden_ventas_item\", \"PRODUCTID\")"
   ]
  },
  {
   "cell_type": "markdown",
   "id": "f39de523",
   "metadata": {},
   "source": [
    "Limpieza de datos. Eliminacion de columnas vacias o irrelevantes"
   ]
  },
  {
   "cell_type": "markdown",
   "id": "5cbf3760",
   "metadata": {},
   "source": [
    "### Eliminación de Columnas o Filas\n",
    "Se eliminan columnas innecesarias, vacías o irrelevantes para el análisis o modelado."
   ]
  },
  {
   "cell_type": "code",
   "execution_count": 5,
   "id": "5dbe1b63",
   "metadata": {},
   "outputs": [
    {
     "name": "stdout",
     "output_type": "stream",
     "text": [
      "Columnas completamente vacías eliminadas: ['OPITEMPOS']\n"
     ]
    }
   ],
   "source": [
    "columnas_vacias = raw_orden_ventas_item.columns[raw_orden_ventas_item.isna().all()]\n",
    "print(f'Columnas completamente vacías eliminadas: {list(columnas_vacias)}')\n",
    "raw_orden_ventas_item.drop(columns=columnas_vacias, inplace=True)"
   ]
  },
  {
   "cell_type": "code",
   "execution_count": 6,
   "id": "c1f138cb",
   "metadata": {},
   "outputs": [
    {
     "name": "stdout",
     "output_type": "stream",
     "text": [
      "      SALESORDERID  SALESORDERITEM PRODUCTID NOTEID CURRENCY  GROSSAMOUNT  \\\n",
      "0        500000000              10   MB-1034             USD         2499   \n",
      "1        500000000              20   CB-1161             USD          399   \n",
      "2        500000001              10   HB-1175             USD          899   \n",
      "3        500000001              20   RC-1056             USD         2499   \n",
      "4        500000001              30   CC-1021             USD         1144   \n",
      "...            ...             ...       ...    ...      ...          ...   \n",
      "1925     500000333              10   MB-1031             USD          649   \n",
      "1926     500000333              20   BX-1013             USD          449   \n",
      "1927     500000333              30   EB-1132             USD         1900   \n",
      "1928     500000333              40   BX-1011             USD          249   \n",
      "1929     500000333              50   BX-1015             USD          299   \n",
      "\n",
      "      NETAMOUNT  TAXAMOUNT ITEMATPSTATUS  QUANTITY QUANTITYUNIT  DELIVERYDATE  \n",
      "0      2186.625    312.375             I         4           EA      20180311  \n",
      "1       349.125     49.875             I         9           EA      20180311  \n",
      "2       786.625    112.375             I         2           EA      20180228  \n",
      "3      2186.625    312.375             I         2           EA      20180228  \n",
      "4      1001.000    143.000             I         3           EA      20180228  \n",
      "...         ...        ...           ...       ...          ...           ...  \n",
      "1925    567.875     81.125             I        10           EA      20190709  \n",
      "1926    392.875     56.125             I         3           EA      20190709  \n",
      "1927   1662.500    237.500             I         3           EA      20190709  \n",
      "1928    217.875     31.125             I         5           EA      20190709  \n",
      "1929    261.625     37.375             I         6           EA      20190709  \n",
      "\n",
      "[1930 rows x 12 columns]\n"
     ]
    }
   ],
   "source": [
    "print(raw_orden_ventas_item)"
   ]
  },
  {
   "cell_type": "markdown",
   "id": "6615bdd3",
   "metadata": {},
   "source": [
    "Procedo a eliminar columnas irrelevantes ['QUANTITYUNIT', 'NOTEID', 'TAXAMOUNT', 'ITEMATPSTATUS', 'GROSSAMOUNT']\n"
   ]
  },
  {
   "cell_type": "markdown",
   "id": "71e58b2b",
   "metadata": {},
   "source": [
    "### Eliminación de Columnas o Filas\n",
    "Se eliminan columnas innecesarias, vacías o irrelevantes para el análisis o modelado."
   ]
  },
  {
   "cell_type": "code",
   "execution_count": 7,
   "id": "a5f20b8c",
   "metadata": {},
   "outputs": [
    {
     "name": "stdout",
     "output_type": "stream",
     "text": [
      "Se eliminaron las columnas: ['QUANTITYUNIT', 'NOTEID', 'TAXAMOUNT', 'ITEMATPSTATUS', 'GROSSAMOUNT', 'CURRENCY']\n"
     ]
    }
   ],
   "source": [
    "columnas_a_eliminar = ['QUANTITYUNIT', 'NOTEID', 'TAXAMOUNT', 'ITEMATPSTATUS', 'GROSSAMOUNT','CURRENCY' ]\n",
    "raw_orden_ventas_item.drop(columns=columnas_a_eliminar, errors='ignore', inplace=True)\n",
    "print(f'Se eliminaron las columnas: {columnas_a_eliminar}')"
   ]
  },
  {
   "cell_type": "code",
   "execution_count": 8,
   "id": "37c0910b",
   "metadata": {},
   "outputs": [
    {
     "name": "stdout",
     "output_type": "stream",
     "text": [
      "      SALESORDERID  SALESORDERITEM PRODUCTID  NETAMOUNT  QUANTITY  \\\n",
      "0        500000000              10   MB-1034   2186.625         4   \n",
      "1        500000000              20   CB-1161    349.125         9   \n",
      "2        500000001              10   HB-1175    786.625         2   \n",
      "3        500000001              20   RC-1056   2186.625         2   \n",
      "4        500000001              30   CC-1021   1001.000         3   \n",
      "...            ...             ...       ...        ...       ...   \n",
      "1925     500000333              10   MB-1031    567.875        10   \n",
      "1926     500000333              20   BX-1013    392.875         3   \n",
      "1927     500000333              30   EB-1132   1662.500         3   \n",
      "1928     500000333              40   BX-1011    217.875         5   \n",
      "1929     500000333              50   BX-1015    261.625         6   \n",
      "\n",
      "      DELIVERYDATE  \n",
      "0         20180311  \n",
      "1         20180311  \n",
      "2         20180228  \n",
      "3         20180228  \n",
      "4         20180228  \n",
      "...            ...  \n",
      "1925      20190709  \n",
      "1926      20190709  \n",
      "1927      20190709  \n",
      "1928      20190709  \n",
      "1929      20190709  \n",
      "\n",
      "[1930 rows x 6 columns]\n"
     ]
    }
   ],
   "source": [
    "print(raw_orden_ventas_item)"
   ]
  },
  {
   "cell_type": "markdown",
   "id": "06702cad",
   "metadata": {},
   "source": [
    "Se convierte la columna DELIVERYDATE a fecha"
   ]
  },
  {
   "cell_type": "markdown",
   "id": "4f54d45e",
   "metadata": {},
   "source": [
    "### Conversión de Fechas\n",
    "Se transforma texto a formato de fecha para permitir análisis temporal."
   ]
  },
  {
   "cell_type": "code",
   "execution_count": 9,
   "id": "06375ab8",
   "metadata": {},
   "outputs": [],
   "source": [
    "raw_orden_ventas_item['DELIVERYDATE'] = pd.to_datetime(raw_orden_ventas_item['DELIVERYDATE'], format='%Y%m%d', errors='coerce')"
   ]
  },
  {
   "cell_type": "code",
   "execution_count": 10,
   "id": "ffd0b857",
   "metadata": {},
   "outputs": [
    {
     "name": "stdout",
     "output_type": "stream",
     "text": [
      "      SALESORDERID  SALESORDERITEM PRODUCTID  NETAMOUNT  QUANTITY DELIVERYDATE\n",
      "0        500000000              10   MB-1034   2186.625         4   2018-03-11\n",
      "1        500000000              20   CB-1161    349.125         9   2018-03-11\n",
      "2        500000001              10   HB-1175    786.625         2   2018-02-28\n",
      "3        500000001              20   RC-1056   2186.625         2   2018-02-28\n",
      "4        500000001              30   CC-1021   1001.000         3   2018-02-28\n",
      "...            ...             ...       ...        ...       ...          ...\n",
      "1925     500000333              10   MB-1031    567.875        10   2019-07-09\n",
      "1926     500000333              20   BX-1013    392.875         3   2019-07-09\n",
      "1927     500000333              30   EB-1132   1662.500         3   2019-07-09\n",
      "1928     500000333              40   BX-1011    217.875         5   2019-07-09\n",
      "1929     500000333              50   BX-1015    261.625         6   2019-07-09\n",
      "\n",
      "[1930 rows x 6 columns]\n"
     ]
    }
   ],
   "source": [
    "print(raw_orden_ventas_item)"
   ]
  },
  {
   "cell_type": "markdown",
   "id": "f9bcd192",
   "metadata": {},
   "source": [
    "Relleno de datos nulos con la media"
   ]
  },
  {
   "cell_type": "markdown",
   "id": "e371c7c8",
   "metadata": {},
   "source": [
    "### Imputación de Valores Faltantes\n",
    "Se reemplazan valores nulos por la media o mediana, según la variable, para evitar perder registros valiosos."
   ]
  },
  {
   "cell_type": "code",
   "execution_count": 11,
   "id": "5cf4f0f3",
   "metadata": {},
   "outputs": [],
   "source": [
    "for col in ['QUANTITY', 'NETAMOUNT']:\n",
    "    if raw_orden_ventas_item[col].isna().sum() > 0:\n",
    "        raw_orden_ventas_item[col].fillna(raw_orden_ventas_item[col].median(), inplace=True)\n",
    "        print(f'Nulos en {col} imputados con la mediana.')"
   ]
  },
  {
   "cell_type": "markdown",
   "id": "408fa2bd",
   "metadata": {},
   "source": [
    "Se crea la columna PRECIOUNITARIO, basado en la cantidad y precio neto del producto"
   ]
  },
  {
   "cell_type": "markdown",
   "id": "437eb131",
   "metadata": {},
   "source": [
    "### Cálculo del Precio Unitario\n",
    "Se calcula el precio unitario dividiendo el monto neto por la cantidad."
   ]
  },
  {
   "cell_type": "code",
   "execution_count": 12,
   "id": "e1fa7c75",
   "metadata": {},
   "outputs": [],
   "source": [
    "raw_orden_ventas_item['PRECIO_UNITARIO'] = raw_orden_ventas_item['NETAMOUNT'] / raw_orden_ventas_item['QUANTITY']"
   ]
  },
  {
   "cell_type": "code",
   "execution_count": 13,
   "id": "b925727a",
   "metadata": {},
   "outputs": [
    {
     "name": "stdout",
     "output_type": "stream",
     "text": [
      "      SALESORDERID  SALESORDERITEM PRODUCTID  NETAMOUNT  QUANTITY  \\\n",
      "0        500000000              10   MB-1034   2186.625         4   \n",
      "1        500000000              20   CB-1161    349.125         9   \n",
      "2        500000001              10   HB-1175    786.625         2   \n",
      "3        500000001              20   RC-1056   2186.625         2   \n",
      "4        500000001              30   CC-1021   1001.000         3   \n",
      "...            ...             ...       ...        ...       ...   \n",
      "1925     500000333              10   MB-1031    567.875        10   \n",
      "1926     500000333              20   BX-1013    392.875         3   \n",
      "1927     500000333              30   EB-1132   1662.500         3   \n",
      "1928     500000333              40   BX-1011    217.875         5   \n",
      "1929     500000333              50   BX-1015    261.625         6   \n",
      "\n",
      "     DELIVERYDATE  PRECIO_UNITARIO  \n",
      "0      2018-03-11       546.656250  \n",
      "1      2018-03-11        38.791667  \n",
      "2      2018-02-28       393.312500  \n",
      "3      2018-02-28      1093.312500  \n",
      "4      2018-02-28       333.666667  \n",
      "...           ...              ...  \n",
      "1925   2019-07-09        56.787500  \n",
      "1926   2019-07-09       130.958333  \n",
      "1927   2019-07-09       554.166667  \n",
      "1928   2019-07-09        43.575000  \n",
      "1929   2019-07-09        43.604167  \n",
      "\n",
      "[1930 rows x 7 columns]\n"
     ]
    }
   ],
   "source": [
    "print(raw_orden_ventas_item)"
   ]
  },
  {
   "cell_type": "markdown",
   "id": "071bf5c5",
   "metadata": {},
   "source": [
    "Redondeo de PRECIO_UNITARIO & NETAMOUNT a dos decimales"
   ]
  },
  {
   "cell_type": "markdown",
   "id": "6a5d90e7",
   "metadata": {},
   "source": [
    "### Redondeo\n",
    "Se redondean valores numéricos como montos o precios para facilitar la interpretación."
   ]
  },
  {
   "cell_type": "code",
   "execution_count": 14,
   "id": "de81b589",
   "metadata": {},
   "outputs": [],
   "source": [
    "raw_orden_ventas_item['NETAMOUNT'] = raw_orden_ventas_item['NETAMOUNT'].round(2)\n",
    "raw_orden_ventas_item['PRECIO_UNITARIO'] = raw_orden_ventas_item['PRECIO_UNITARIO'].round(2)"
   ]
  },
  {
   "cell_type": "code",
   "execution_count": 15,
   "id": "14ffd4f1",
   "metadata": {},
   "outputs": [
    {
     "name": "stdout",
     "output_type": "stream",
     "text": [
      "      SALESORDERID  SALESORDERITEM PRODUCTID  NETAMOUNT  QUANTITY  \\\n",
      "0        500000000              10   MB-1034    2186.62         4   \n",
      "1        500000000              20   CB-1161     349.12         9   \n",
      "2        500000001              10   HB-1175     786.62         2   \n",
      "3        500000001              20   RC-1056    2186.62         2   \n",
      "4        500000001              30   CC-1021    1001.00         3   \n",
      "...            ...             ...       ...        ...       ...   \n",
      "1925     500000333              10   MB-1031     567.88        10   \n",
      "1926     500000333              20   BX-1013     392.88         3   \n",
      "1927     500000333              30   EB-1132    1662.50         3   \n",
      "1928     500000333              40   BX-1011     217.88         5   \n",
      "1929     500000333              50   BX-1015     261.62         6   \n",
      "\n",
      "     DELIVERYDATE  PRECIO_UNITARIO  \n",
      "0      2018-03-11           546.66  \n",
      "1      2018-03-11            38.79  \n",
      "2      2018-02-28           393.31  \n",
      "3      2018-02-28          1093.31  \n",
      "4      2018-02-28           333.67  \n",
      "...           ...              ...  \n",
      "1925   2019-07-09            56.79  \n",
      "1926   2019-07-09           130.96  \n",
      "1927   2019-07-09           554.17  \n",
      "1928   2019-07-09            43.58  \n",
      "1929   2019-07-09            43.60  \n",
      "\n",
      "[1930 rows x 7 columns]\n"
     ]
    }
   ],
   "source": [
    "print(raw_orden_ventas_item)"
   ]
  },
  {
   "cell_type": "markdown",
   "id": "3da75a05",
   "metadata": {},
   "source": [
    "Eliminacion de outliers usando los quartiles IQR"
   ]
  },
  {
   "cell_type": "code",
   "execution_count": 16,
   "id": "1b6359bf",
   "metadata": {},
   "outputs": [
    {
     "name": "stdout",
     "output_type": "stream",
     "text": [
      "Filtrado de outliers en QUANTITY completado.\n"
     ]
    }
   ],
   "source": [
    "Q1 = raw_orden_ventas_item['QUANTITY'].quantile(0.25)\n",
    "Q3 = raw_orden_ventas_item['QUANTITY'].quantile(0.75)\n",
    "IQR = Q3 - Q1\n",
    "limite_inferior = Q1 - 1.5 * IQR\n",
    "limite_superior = Q3 + 1.5 * IQR\n",
    "\n",
    "raw_orden_ventas_item = raw_orden_ventas_item[\n",
    "    (raw_orden_ventas_item['QUANTITY'] >= limite_inferior) &\n",
    "    (raw_orden_ventas_item['QUANTITY'] <= limite_superior)\n",
    "]\n",
    "print('Filtrado de outliers en QUANTITY completado.')"
   ]
  },
  {
   "cell_type": "markdown",
   "id": "4f67cc38",
   "metadata": {},
   "source": [
    "## SALES ORDERS\n"
   ]
  },
  {
   "cell_type": "code",
   "execution_count": 17,
   "id": "38f2c8ab",
   "metadata": {},
   "outputs": [
    {
     "name": "stdout",
     "output_type": "stream",
     "text": [
      "EDA de raw_orden_ventas \n",
      "\n",
      "Primeras filas:\n",
      "   SALESORDERID  CREATEDBY  CREATEDAT  CHANGEDBY  CHANGEDAT FISCVARIANT  \\\n",
      "0     500000000          4   20180111          4   20180116          K4   \n",
      "1     500000001          2   20180112          2   20180115          K4   \n",
      "2     500000002          5   20180115          5   20180120          K4   \n",
      "3     500000003          3   20180115          3   20180120          K4   \n",
      "4     500000004          8   20180116          8   20180117          K4   \n",
      "\n",
      "   FISCALYEARPERIOD  NOTEID  PARTNERID SALESORG CURRENCY  GROSSAMOUNT  \\\n",
      "0           2018001     NaN  100000022      APJ      USD        13587   \n",
      "1           2018001     NaN  100000026     EMEA      USD        12622   \n",
      "2           2018001     NaN  100000018      APJ      USD        45655   \n",
      "3           2018001     NaN  100000009     EMEA      USD       101786   \n",
      "4           2018001     NaN  100000025     EMEA      USD        71684   \n",
      "\n",
      "   NETAMOUNT  TAXAMOUNT LIFECYCLESTATUS BILLINGSTATUS DELIVERYSTATUS  \n",
      "0  11888.625   1698.375               C             C              C  \n",
      "1  11044.250   1577.750               C             C              C  \n",
      "2  39948.125   5706.875               C             C              C  \n",
      "3  89062.750  12723.250               C             C              C  \n",
      "4  62723.500   8960.500               C             C              C  \n",
      "\n",
      "<class 'pandas.core.frame.DataFrame'>\n",
      "RangeIndex: 334 entries, 0 to 333\n",
      "Data columns (total 17 columns):\n",
      " #   Column            Non-Null Count  Dtype  \n",
      "---  ------            --------------  -----  \n",
      " 0   SALESORDERID      334 non-null    int64  \n",
      " 1   CREATEDBY         334 non-null    int64  \n",
      " 2   CREATEDAT         334 non-null    int64  \n",
      " 3   CHANGEDBY         334 non-null    int64  \n",
      " 4   CHANGEDAT         334 non-null    int64  \n",
      " 5   FISCVARIANT       334 non-null    object \n",
      " 6   FISCALYEARPERIOD  334 non-null    int64  \n",
      " 7   NOTEID            0 non-null      float64\n",
      " 8   PARTNERID         334 non-null    int64  \n",
      " 9   SALESORG          334 non-null    object \n",
      " 10  CURRENCY          334 non-null    object \n",
      " 11  GROSSAMOUNT       334 non-null    int64  \n",
      " 12  NETAMOUNT         334 non-null    float64\n",
      " 13  TAXAMOUNT         334 non-null    float64\n",
      " 14  LIFECYCLESTATUS   334 non-null    object \n",
      " 15  BILLINGSTATUS     334 non-null    object \n",
      " 16  DELIVERYSTATUS    334 non-null    object \n",
      "dtypes: float64(3), int64(8), object(6)\n",
      "memory usage: 44.5+ KB\n",
      "None\n",
      "\n",
      "Filas enteras repeditas: 0\n",
      "\n",
      "Filas con id repetido: 0\n",
      "\n",
      "Valores ausentes:\n",
      "SALESORDERID          0\n",
      "CREATEDBY             0\n",
      "CREATEDAT             0\n",
      "CHANGEDBY             0\n",
      "CHANGEDAT             0\n",
      "FISCVARIANT           0\n",
      "FISCALYEARPERIOD      0\n",
      "NOTEID              334\n",
      "PARTNERID             0\n",
      "SALESORG              0\n",
      "CURRENCY              0\n",
      "GROSSAMOUNT           0\n",
      "NETAMOUNT             0\n",
      "TAXAMOUNT             0\n",
      "LIFECYCLESTATUS       0\n",
      "BILLINGSTATUS         0\n",
      "DELIVERYSTATUS        0\n",
      "dtype: int64\n",
      "\n"
     ]
    }
   ],
   "source": [
    "eda(raw_orden_ventas, \"raw_orden_ventas\", \"SALESORDERID\")"
   ]
  },
  {
   "cell_type": "markdown",
   "id": "5a4b439d",
   "metadata": {},
   "source": [
    "Cambio de valores a fechas"
   ]
  },
  {
   "cell_type": "markdown",
   "id": "802e3482",
   "metadata": {},
   "source": [
    "### Conversión de Fechas\n",
    "Se transforma texto a formato de fecha para permitir análisis temporal."
   ]
  },
  {
   "cell_type": "code",
   "execution_count": 18,
   "id": "dd05a64b",
   "metadata": {},
   "outputs": [],
   "source": [
    "raw_orden_ventas['CREATEDAT'] = pd.to_datetime(raw_orden_ventas['CREATEDAT'], format='%Y%m%d', errors='coerce')\n",
    "raw_orden_ventas['CHANGEDAT'] = pd.to_datetime(raw_orden_ventas['CHANGEDAT'], format='%Y%m%d', errors='coerce')"
   ]
  },
  {
   "cell_type": "markdown",
   "id": "b88e5bc8",
   "metadata": {},
   "source": [
    "Eliminación de columnas vacias o irrelevantes"
   ]
  },
  {
   "cell_type": "markdown",
   "id": "0696ce02",
   "metadata": {},
   "source": [
    "### Eliminación de Columnas o Filas\n",
    "Se eliminan columnas innecesarias, vacías o irrelevantes para el análisis o modelado."
   ]
  },
  {
   "cell_type": "code",
   "execution_count": 19,
   "id": "78716709",
   "metadata": {},
   "outputs": [
    {
     "name": "stdout",
     "output_type": "stream",
     "text": [
      "Se eliminaron columnas: ['SALESORG', 'TAXAMOUNT', 'FISCALYEARPERIOD', 'BILLINGSTATUS', 'CHANGEDBY', 'DELIVERYSTATUS', 'NOTEID', 'FISCVARIANT', 'PARTNERID', 'CURRENCY', 'CHANGEDAT', 'LIFECYCLESTATUS', 'GROSSAMOUNT']\n"
     ]
    }
   ],
   "source": [
    "columnas_vacias = raw_orden_ventas.columns[raw_orden_ventas.isna().all()].tolist()\n",
    "columnas_irrelevantes = [\n",
    "    'CURRENCY', 'NOTEID', 'FISCALYEARPERIOD', 'SALESORG', 'PARTNERID',\n",
    "    'FISCVARIANT', 'CHANGEDBY', 'CHANGEDAT', 'GROSSAMOUNT', 'TAXAMOUNT',\n",
    "    'LIFECYCLESTATUS', 'BILLINGSTATUS', 'DELIVERYSTATUS'\n",
    "]\n",
    "columnas_a_eliminar = list(set(columnas_vacias + columnas_irrelevantes))\n",
    "raw_orden_ventas.drop(columns=columnas_a_eliminar, errors='ignore', inplace=True)\n",
    "print(f'Se eliminaron columnas: {columnas_a_eliminar}')"
   ]
  },
  {
   "cell_type": "markdown",
   "id": "e7fbf53b",
   "metadata": {},
   "source": [
    "Relleno de valores NAN con la media y redondeo de los datos float. "
   ]
  },
  {
   "cell_type": "markdown",
   "id": "17b36ab7",
   "metadata": {},
   "source": [
    "### Imputación de Valores Faltantes\n",
    "Se reemplazan valores nulos por la media o mediana, según la variable, para evitar perder registros valiosos."
   ]
  },
  {
   "cell_type": "code",
   "execution_count": 20,
   "id": "155f6c0e",
   "metadata": {},
   "outputs": [],
   "source": [
    "if raw_orden_ventas['NETAMOUNT'].isna().sum() > 0:\n",
    "    raw_orden_ventas['NETAMOUNT'].fillna(raw_orden_ventas['NETAMOUNT'].mean(), inplace=True)\n",
    "raw_orden_ventas['NETAMOUNT'] = raw_orden_ventas['NETAMOUNT'].round(2)"
   ]
  },
  {
   "cell_type": "code",
   "execution_count": 21,
   "id": "ed967135",
   "metadata": {},
   "outputs": [
    {
     "name": "stdout",
     "output_type": "stream",
     "text": [
      "     SALESORDERID  CREATEDBY  CREATEDAT  NETAMOUNT\n",
      "0       500000000          4 2018-01-11   11888.62\n",
      "1       500000001          2 2018-01-12   11044.25\n",
      "2       500000002          5 2018-01-15   39948.12\n",
      "3       500000003          3 2018-01-15   89062.75\n",
      "4       500000004          8 2018-01-16   62723.50\n",
      "..            ...        ...        ...        ...\n",
      "329     500000329          7 2019-06-19   79293.38\n",
      "330     500000330         11 2019-06-22   99637.12\n",
      "331     500000331          3 2019-06-25   11106.38\n",
      "332     500000332         13 2019-06-27   61712.00\n",
      "333     500000333          5 2019-06-27   14504.00\n",
      "\n",
      "[334 rows x 4 columns]\n"
     ]
    }
   ],
   "source": [
    "print(raw_orden_ventas)"
   ]
  },
  {
   "cell_type": "markdown",
   "id": "58b310dc",
   "metadata": {},
   "source": [
    "## Products\n"
   ]
  },
  {
   "cell_type": "code",
   "execution_count": 22,
   "id": "dbfd22d1",
   "metadata": {},
   "outputs": [
    {
     "name": "stdout",
     "output_type": "stream",
     "text": [
      "EDA de raw_productos \n",
      "\n",
      "Primeras filas:\n",
      "  PRODUCTID TYPECODE PRODCATEGORYID  CREATEDBY  CREATEDAT  CHANGEDBY  \\\n",
      "0   RO-1001       PR             RO          9   20181003          9   \n",
      "1   RO-1002       PR             RO          9   20181003          9   \n",
      "2   RO-1003       PR             RO         12   20181003         12   \n",
      "3   BX-1011       PR             BX          9   20181003          9   \n",
      "4   BX-1012       PR             BX          6   20181003          6   \n",
      "\n",
      "   CHANGEDAT  SUPPLIER_PARTNERID  TAXTARIFFCODE QUANTITYUNIT  WEIGHTMEASURE  \\\n",
      "0   20181003           100000000              1           EA            7.7   \n",
      "1   20181003           100000001              1           EA            8.0   \n",
      "2   20181003           100000002              1           EA            9.1   \n",
      "3   20181003           100000003              1           EA           11.1   \n",
      "4   20181003           100000004              1           EA           12.0   \n",
      "\n",
      "  WEIGHTUNIT CURRENCY  PRICE  WIDTH  DEPTH  HEIGHT  DIMENSIONUNIT  \\\n",
      "0         KG      USD    525    NaN    NaN     NaN            NaN   \n",
      "1         KG      USD    689    NaN    NaN     NaN            NaN   \n",
      "2         KG      USD    721    NaN    NaN     NaN            NaN   \n",
      "3         KG      USD    249    NaN    NaN     NaN            NaN   \n",
      "4         KG      USD    399    NaN    NaN     NaN            NaN   \n",
      "\n",
      "   PRODUCTPICURL  \n",
      "0            NaN  \n",
      "1            NaN  \n",
      "2            NaN  \n",
      "3            NaN  \n",
      "4            NaN  \n",
      "\n",
      "<class 'pandas.core.frame.DataFrame'>\n",
      "RangeIndex: 42 entries, 0 to 41\n",
      "Data columns (total 19 columns):\n",
      " #   Column              Non-Null Count  Dtype  \n",
      "---  ------              --------------  -----  \n",
      " 0   PRODUCTID           42 non-null     object \n",
      " 1   TYPECODE            42 non-null     object \n",
      " 2   PRODCATEGORYID      42 non-null     object \n",
      " 3   CREATEDBY           42 non-null     int64  \n",
      " 4   CREATEDAT           42 non-null     int64  \n",
      " 5   CHANGEDBY           42 non-null     int64  \n",
      " 6   CHANGEDAT           42 non-null     int64  \n",
      " 7   SUPPLIER_PARTNERID  42 non-null     int64  \n",
      " 8   TAXTARIFFCODE       42 non-null     int64  \n",
      " 9   QUANTITYUNIT        42 non-null     object \n",
      " 10  WEIGHTMEASURE       42 non-null     float64\n",
      " 11  WEIGHTUNIT          42 non-null     object \n",
      " 12  CURRENCY            42 non-null     object \n",
      " 13  PRICE               42 non-null     int64  \n",
      " 14  WIDTH               0 non-null      float64\n",
      " 15  DEPTH               0 non-null      float64\n",
      " 16  HEIGHT              0 non-null      float64\n",
      " 17  DIMENSIONUNIT       0 non-null      float64\n",
      " 18  PRODUCTPICURL       0 non-null      float64\n",
      "dtypes: float64(6), int64(7), object(6)\n",
      "memory usage: 6.4+ KB\n",
      "None\n",
      "\n",
      "Filas enteras repeditas: 0\n",
      "\n",
      "Filas con id repetido: 0\n",
      "\n",
      "Valores ausentes:\n",
      "PRODUCTID              0\n",
      "TYPECODE               0\n",
      "PRODCATEGORYID         0\n",
      "CREATEDBY              0\n",
      "CREATEDAT              0\n",
      "CHANGEDBY              0\n",
      "CHANGEDAT              0\n",
      "SUPPLIER_PARTNERID     0\n",
      "TAXTARIFFCODE          0\n",
      "QUANTITYUNIT           0\n",
      "WEIGHTMEASURE          0\n",
      "WEIGHTUNIT             0\n",
      "CURRENCY               0\n",
      "PRICE                  0\n",
      "WIDTH                 42\n",
      "DEPTH                 42\n",
      "HEIGHT                42\n",
      "DIMENSIONUNIT         42\n",
      "PRODUCTPICURL         42\n",
      "dtype: int64\n",
      "\n"
     ]
    }
   ],
   "source": [
    "eda(raw_productos, \"raw_productos\", \"PRODUCTID\")"
   ]
  },
  {
   "cell_type": "markdown",
   "id": "d0238521",
   "metadata": {},
   "source": [
    "Eliminacion de columnas irrelevantes"
   ]
  },
  {
   "cell_type": "markdown",
   "id": "7dea063d",
   "metadata": {},
   "source": [
    "### Eliminación de Columnas o Filas\n",
    "Se eliminan columnas innecesarias, vacías o irrelevantes para el análisis o modelado."
   ]
  },
  {
   "cell_type": "code",
   "execution_count": 23,
   "id": "5ec56002",
   "metadata": {},
   "outputs": [],
   "source": [
    "columnas_a_eliminar = [\n",
    "    'PRODUCTPICURL', 'WIDTH', 'DEPTH', 'HEIGHT', 'DIMENSIONUNIT',\n",
    "    'SUPPLIER_PARTNERID', 'TAXTARIFFCODE', 'QUANTITYUNIT', 'WEIGHTMEASURE',\n",
    "    'CHANGEDBY', 'CREATEDBY', 'TYPECODE', 'CHANGEDAT'\n",
    "]\n",
    "raw_productos.drop(columns=columnas_a_eliminar, errors='ignore', inplace=True)"
   ]
  },
  {
   "cell_type": "markdown",
   "id": "1625e0d8",
   "metadata": {},
   "source": [
    "Cambio de valores a fechas"
   ]
  },
  {
   "cell_type": "markdown",
   "id": "3776ac72",
   "metadata": {},
   "source": [
    "### Conversión de Fechas\n",
    "Se transforma texto a formato de fecha para permitir análisis temporal."
   ]
  },
  {
   "cell_type": "code",
   "execution_count": 24,
   "id": "74d4acf9",
   "metadata": {},
   "outputs": [],
   "source": [
    "raw_productos['CREATEDAT'] = pd.to_datetime(raw_productos['CREATEDAT'], format='%Y%m%d', errors='coerce')"
   ]
  },
  {
   "cell_type": "code",
   "execution_count": 25,
   "id": "04c35678",
   "metadata": {},
   "outputs": [
    {
     "name": "stdout",
     "output_type": "stream",
     "text": [
      "   PRODUCTID PRODCATEGORYID  CREATEDAT WEIGHTUNIT CURRENCY  PRICE\n",
      "0    RO-1001             RO 2018-10-03         KG      USD    525\n",
      "1    RO-1002             RO 2018-10-03         KG      USD    689\n",
      "2    RO-1003             RO 2018-10-03         KG      USD    721\n",
      "3    BX-1011             BX 2018-10-03         KG      USD    249\n",
      "4    BX-1012             BX 2018-10-03         KG      USD    399\n",
      "5    BX-1013             BX 2018-10-03         KG      USD    449\n",
      "6    BX-1014             BX 2018-10-03         KG      USD    799\n",
      "7    BX-1015             BX 2018-10-03         KG      USD    299\n",
      "8    BX-1016             BX 2018-10-03         KG      USD    319\n",
      "9    CC-1021             CC 2018-10-03         KG      USD   1144\n",
      "10   CC-1022             CC 2018-10-03         KG      USD   1200\n",
      "11   CC-1023             CC 2018-10-03         KG      USD   1361\n",
      "12   MB-1031             MB 2018-10-03         KG      USD    649\n",
      "13   MB-1032             MB 2018-10-03         KG      USD   1299\n",
      "14   MB-1033             MB 2018-10-03         KG      USD   3999\n",
      "15   MB-1034             MB 2018-10-03         KG      USD   2499\n",
      "16   RC-1051             RC 2018-10-03         KG      USD   2499\n",
      "17   RC-1052             RC 2018-10-03         KG      USD   3999\n",
      "18   RC-1053             RC 2018-10-03         KG      USD   4599\n",
      "19   RC-1054             RC 2018-10-03         KG      USD   5499\n",
      "20   RC-1055             RC 2018-10-03         KG      USD   1999\n",
      "21   RC-1056             RC 2018-10-03         KG      USD   2499\n",
      "22   RC-1057             RC 2018-10-03         KG      USD   4999\n",
      "23   DB-1081             DB 2018-10-03         KG      USD   1499\n",
      "24   DB-1082             DB 2018-10-03         KG      USD   1250\n",
      "25   DB-1083             DB 2018-10-03         KG      USD   1199\n",
      "26   EB-1131             EB 2018-10-03         KG      USD   1500\n",
      "27   EB-1132             EB 2018-10-03         KG      USD   1900\n",
      "28   EB-1133             EB 2018-10-03         KG      USD   2250\n",
      "29   EB-1134             EB 2018-10-03         KG      USD   4800\n",
      "30   EB-1135             EB 2018-10-03         KG      USD   3000\n",
      "31   EB-1136             EB 2018-10-03         KG      USD   5000\n",
      "32   EB-1137             EB 2018-10-03         KG      USD   7900\n",
      "33   CB-1161             CB 2018-10-03         KG      USD    399\n",
      "34   CB-1162             CB 2018-10-03         KG      USD    400\n",
      "35   CB-1163             CB 2018-10-03         KG      USD    288\n",
      "36   HB-1171             HB 2018-10-03         KG      USD    699\n",
      "37   HB-1172             HB 2018-10-03         KG      USD    799\n",
      "38   HB-1173             HB 2018-10-03         KG      USD    649\n",
      "39   HB-1174             HB 2018-10-03         KG      USD    379\n",
      "40   HB-1175             HB 2018-10-03         KG      USD    899\n",
      "41   HB-1176             HB 2018-10-03         KG      USD   1199\n"
     ]
    }
   ],
   "source": [
    "print(raw_productos)"
   ]
  },
  {
   "cell_type": "markdown",
   "id": "6a716eb2",
   "metadata": {},
   "source": [
    "## ProductCategories"
   ]
  },
  {
   "cell_type": "code",
   "execution_count": 26,
   "id": "d39e6514",
   "metadata": {},
   "outputs": [
    {
     "name": "stdout",
     "output_type": "stream",
     "text": [
      "EDA de raw_categoria_productos \n",
      "\n",
      "Primeras filas:\n",
      "  PRODCATEGORYID  CREATEDBY  CREATEDAT\n",
      "0             RO         12   20181003\n",
      "1             BX          4   20181003\n",
      "2             CC          7   20181003\n",
      "3             MB         11   20181003\n",
      "4             RC          9   20181003\n",
      "\n",
      "<class 'pandas.core.frame.DataFrame'>\n",
      "RangeIndex: 9 entries, 0 to 8\n",
      "Data columns (total 3 columns):\n",
      " #   Column          Non-Null Count  Dtype \n",
      "---  ------          --------------  ----- \n",
      " 0   PRODCATEGORYID  9 non-null      object\n",
      " 1   CREATEDBY       9 non-null      int64 \n",
      " 2   CREATEDAT       9 non-null      int64 \n",
      "dtypes: int64(2), object(1)\n",
      "memory usage: 348.0+ bytes\n",
      "None\n",
      "\n",
      "Filas enteras repeditas: 0\n",
      "\n",
      "Filas con id repetido: 0\n",
      "\n",
      "Valores ausentes:\n",
      "PRODCATEGORYID    0\n",
      "CREATEDBY         0\n",
      "CREATEDAT         0\n",
      "dtype: int64\n",
      "\n"
     ]
    }
   ],
   "source": [
    "eda(raw_categoria_productos, \"raw_categoria_productos\", \"PRODCATEGORYID\")"
   ]
  },
  {
   "cell_type": "markdown",
   "id": "2ef96181",
   "metadata": {},
   "source": [
    "Cambio de valores a fechas"
   ]
  },
  {
   "cell_type": "markdown",
   "id": "395042ef",
   "metadata": {},
   "source": [
    "### Conversión de Fechas\n",
    "Se transforma texto a formato de fecha para permitir análisis temporal."
   ]
  },
  {
   "cell_type": "code",
   "execution_count": 27,
   "id": "62c6a389",
   "metadata": {},
   "outputs": [],
   "source": [
    "raw_categoria_productos['CREATEDAT'] = pd.to_datetime(raw_categoria_productos['CREATEDAT'], format='%Y%m%d', errors='coerce')"
   ]
  },
  {
   "cell_type": "markdown",
   "id": "689ff6cd",
   "metadata": {},
   "source": [
    "Eliminacino columnas irrelevantes"
   ]
  },
  {
   "cell_type": "markdown",
   "id": "f7309ec8",
   "metadata": {},
   "source": [
    "### Eliminación de Columnas o Filas\n",
    "Se eliminan columnas innecesarias, vacías o irrelevantes para el análisis o modelado."
   ]
  },
  {
   "cell_type": "code",
   "execution_count": 28,
   "id": "2ddeb2da",
   "metadata": {},
   "outputs": [],
   "source": [
    "raw_categoria_productos.drop(columns=['CREATEDBY'], inplace=True)"
   ]
  },
  {
   "cell_type": "code",
   "execution_count": 29,
   "id": "de7fd854",
   "metadata": {},
   "outputs": [
    {
     "name": "stdout",
     "output_type": "stream",
     "text": [
      "  PRODCATEGORYID  CREATEDAT\n",
      "0             RO 2018-10-03\n",
      "1             BX 2018-10-03\n",
      "2             CC 2018-10-03\n",
      "3             MB 2018-10-03\n",
      "4             RC 2018-10-03\n",
      "5             DB 2018-10-03\n",
      "6             EB 2018-10-03\n",
      "7             CB 2018-10-03\n",
      "8             HB 2018-10-03\n"
     ]
    }
   ],
   "source": [
    "print(raw_categoria_productos)"
   ]
  },
  {
   "cell_type": "markdown",
   "id": "25b1ec1a",
   "metadata": {},
   "source": [
    "# Integración y Análisis de Tablas - Proyecto de Ventas e Inventario\n",
    "Este notebook une las principales tablas del proyecto, genera variables clave para análisis y muestra visualizaciones agrupadas por producto, categoría y tiempo."
   ]
  },
  {
   "cell_type": "markdown",
   "id": "ce346ccc",
   "metadata": {},
   "source": [
    "### Conversión de Fechas\n",
    "Se transforma texto a formato de fecha para permitir análisis temporal."
   ]
  },
  {
   "cell_type": "code",
   "execution_count": 30,
   "id": "6ffab443",
   "metadata": {},
   "outputs": [],
   "source": [
    "raw_orden_ventas['CREATEDAT'] = pd.to_datetime(raw_orden_ventas['CREATEDAT'], format='%Y%m%d', errors='coerce')\n",
    "raw_productos.rename(columns={'PRODCATEGORYID': 'PRODUCTCATEGORY'}, inplace=True)\n",
    "raw_categoria_productos.rename(columns={'PRODCATEGORYID': 'PRODUCTCATEGORY'}, inplace=True)\n",
    "\n",
    "raw_orden_ventas_item['PRECIO_UNITARIO'] = raw_orden_ventas_item['NETAMOUNT'] / raw_orden_ventas_item['QUANTITY']\n",
    "\n",
    "df_completo = raw_orden_ventas_item.merge(raw_orden_ventas[['SALESORDERID', 'CREATEDAT']], on='SALESORDERID', how='left')\n",
    "df_completo = df_completo.merge(raw_productos[['PRODUCTID', 'PRODUCTCATEGORY']], on='PRODUCTID', how='left')\n",
    "df_completo = df_completo.merge(raw_categoria_productos[['PRODUCTCATEGORY']], on='PRODUCTCATEGORY', how='left')\n",
    "\n",
    "df_completo['ANIO'] = df_completo['CREATEDAT'].dt.year\n",
    "df_completo['MES'] = df_completo['CREATEDAT'].dt.month\n",
    "df_completo['DIA_SEMANA'] = df_completo['CREATEDAT'].dt.day_name()"
   ]
  },
  {
   "cell_type": "code",
   "execution_count": 31,
   "id": "3208974a",
   "metadata": {},
   "outputs": [
    {
     "data": {
      "image/png": "[encoded data removed]",
      "text/plain": [
       "<Figure size 1000x500 with 1 Axes>"
      ]
     },
     "metadata": {},
     "output_type": "display_data"
    }
   ],
   "source": [
    "ventas_categoria = df_completo.groupby('PRODUCTCATEGORY')['NETAMOUNT'].sum().sort_values(ascending=False)\n",
    "ventas_categoria.plot(kind='bar', figsize=(10, 5), color='skyblue', edgecolor='black')\n",
    "plt.title('Ventas Totales por Categoría')\n",
    "plt.xlabel('Categoría')\n",
    "plt.ylabel('Monto Neto')\n",
    "plt.grid(True)\n",
    "plt.tight_layout()\n",
    "plt.show()"
   ]
  },
  {
   "cell_type": "code",
   "execution_count": 32,
   "id": "d3cce0b4",
   "metadata": {},
   "outputs": [
    {
     "data": {
      "image/png": "[encoded data removed]",
      "text/plain": [
       "<Figure size 800x500 with 1 Axes>"
      ]
     },
     "metadata": {},
     "output_type": "display_data"
    }
   ],
   "source": [
    "ventas_mes = df_completo.groupby('MES')['NETAMOUNT'].sum().sort_index()\n",
    "ventas_mes.plot(kind='bar', figsize=(8, 5), color='orange', edgecolor='black')\n",
    "plt.title('Ventas por Mes')\n",
    "plt.xlabel('Mes')\n",
    "plt.ylabel('Monto Neto')\n",
    "plt.grid(True)\n",
    "plt.tight_layout()\n",
    "plt.show()"
   ]
  },
  {
   "cell_type": "markdown",
   "id": "776baa9a",
   "metadata": {},
   "source": [
    "## Conclusión Final del DATA WRANGLING\n",
    "El conjunto de datos está bien estructurado y tras la limpieza, se encuentra preparado para el siguiente paso. Se eliminaron columnas irrelevantes, se imputaron valores nulos con estrategias apropiadas, y se generaron variables derivadas útiles (como precio unitario).\n",
    "\n",
    "La información obtenida en este proyecto sienta una base sólida para:\n",
    "\n",
    "Entrenar modelos de predicción de ventas por producto o categoría.\n",
    "\n",
    "Estimar la rotación de inventario.\n",
    "\n",
    "Visualizar tendencias estacionales y de comportamiento del consumidor."
   ]
  },
  {
   "cell_type": "code",
   "execution_count": null,
   "id": "f7ae8596",
   "metadata": {},
   "outputs": [],
   "source": []
  }
 ],
 "metadata": {
  "kernelspec": {
   "display_name": "base",
   "language": "python",
   "name": "python3"
  },
  "language_info": {
   "codemirror_mode": {
    "name": "ipython",
    "version": 3
   },
   "file_extension": ".py",
   "mimetype": "text/x-python",
   "name": "python",
   "nbconvert_exporter": "python",
   "pygments_lexer": "ipython3",
   "version": "3.12.7"
  }
 },
 "nbformat": 4,
 "nbformat_minor": 5
}
